{
 "cells": [
  {
   "cell_type": "markdown",
   "id": "ca6413dc",
   "metadata": {},
   "source": [
    "## Credit Card Customer Segmentation Case Study"
   ]
  },
  {
   "cell_type": "markdown",
   "id": "3e057e13",
   "metadata": {},
   "source": [
    "### Context\n",
    "\n",
    "AllLife Bank wants to focus on its credit card customer base in the next financial year. They have been advised by their marketing research team, that the penetration in the market can be improved. Based on this input, the Marketing team proposes to run personalized campaigns to target new customers as well as upsell to existing customers. Another insight from the market research was that the customers perceive the support services of the back poorly. Based on this, the Operations team wants to upgrade the service delivery model, to ensure that customer queries are resolved faster. Head of Marketing and Head of Delivery both decide to reach out to the Data Science team for help\n",
    "\n",
    " "
   ]
  },
  {
   "cell_type": "markdown",
   "id": "1b6daed6",
   "metadata": {},
   "source": [
    "### Objective"
   ]
  },
  {
   "cell_type": "markdown",
   "id": "a38fdf87",
   "metadata": {},
   "source": [
    "To identify different segments in the existing customer, based on their spending patterns as well as past interaction with the bank, using clustering algorithms, and provide recommendations to the bank on how to better market to and service these customers."
   ]
  },
  {
   "cell_type": "markdown",
   "id": "b0556998",
   "metadata": {},
   "source": [
    "### Data Description"
   ]
  },
  {
   "cell_type": "markdown",
   "id": "789b3b37",
   "metadata": {},
   "source": [
    "The data provided is of various customers of a bank and their financial attributes like credit limit, the total number of credit cards the customer has, and different channels through which customers have contacted the bank for any queries (including visiting the bank, online and through a call center).\n",
    "\n",
    "- Sl_No: Primary key of the records\n",
    "- Customer Key: Customer identification number\n",
    "- Average Credit Limit: Average credit limit of each customer for all credit cards\n",
    "- Total credit cards: Total number of credit cards possessed by the customer\n",
    "- Total visits bank: Total number of visits that customer made (yearly) personally to the bank\n",
    "- Total visits online: Total number of visits or online logins made by the customer (yearly)\n",
    "- Total calls made: Total number of calls made by the customer to the bank or its customer service department (yearly)"
   ]
  },
  {
   "cell_type": "markdown",
   "id": "e85b8447",
   "metadata": {},
   "source": [
    "### Importing necessary libraries"
   ]
  },
  {
   "cell_type": "code",
   "execution_count": 1,
   "id": "33056f0c",
   "metadata": {},
   "outputs": [],
   "source": [
    "# Libraries to help with reading and manipulating data\n",
    "import numpy as np\n",
    "import pandas as pd\n",
    "\n",
    "# Libraries to help with data visualization\n",
    "import matplotlib.pyplot as plt\n",
    "import seaborn as sns\n",
    "\n",
    "sns.set_theme()\n",
    "\n",
    "# Removes the limit for the number of displayed columns\n",
    "pd.set_option(\"display.max_columns\", None)\n",
    "\n",
    "# Sets the limit for the number of displayed rows\n",
    "pd.set_option(\"display.max_rows\", 200)\n",
    "\n",
    "# to scale the data using z-score\n",
    "from sklearn.preprocessing import StandardScaler\n",
    "\n",
    "# to compute distances\n",
    "from scipy.spatial.distance import cdist\n",
    "\n",
    "# to perform k-means clustering and compute silhouette scores\n",
    "from sklearn.cluster import KMeans, DBSCAN\n",
    "\n",
    "\n",
    "# import silhouette metrics\n",
    "from sklearn.metrics import silhouette_score\n",
    "\n",
    "# to visualize the elbow curve and silhouette scores\n",
    "from yellowbrick.cluster import KElbowVisualizer, SilhouetteVisualizer"
   ]
  },
  {
   "cell_type": "code",
   "execution_count": 2,
   "id": "f1b4913e",
   "metadata": {},
   "outputs": [],
   "source": [
    "#remove warnings\n",
    "\n",
    "import warnings\n",
    "\n",
    "warnings.filterwarnings('ignore')"
   ]
  },
  {
   "cell_type": "markdown",
   "id": "4c52203e",
   "metadata": {},
   "source": [
    "## Reading the Dataset"
   ]
  },
  {
   "cell_type": "code",
   "execution_count": 3,
   "id": "81a5d47e",
   "metadata": {},
   "outputs": [],
   "source": [
    "# loading the dataset\n",
    "\n",
    "df = pd.read_excel(\"Credit+Card+Customer+Data.xlsx\")"
   ]
  },
  {
   "cell_type": "markdown",
   "id": "c9da99eb",
   "metadata": {},
   "source": [
    "### Checking the shape of the dataset"
   ]
  },
  {
   "cell_type": "code",
   "execution_count": 4,
   "id": "68a35c6e",
   "metadata": {},
   "outputs": [
    {
     "data": {
      "text/plain": [
       "(660, 7)"
      ]
     },
     "execution_count": 4,
     "metadata": {},
     "output_type": "execute_result"
    }
   ],
   "source": [
    "# checking the dimension of the data \n",
    "\n",
    "df.shape"
   ]
  },
  {
   "cell_type": "markdown",
   "id": "579d1595",
   "metadata": {},
   "source": [
    "* The dataset has 660 rows and 7 columns "
   ]
  },
  {
   "cell_type": "markdown",
   "id": "133c4328",
   "metadata": {},
   "source": [
    "### Viewing a random sample of the dataset"
   ]
  },
  {
   "cell_type": "code",
   "execution_count": 5,
   "id": "9664f8f7",
   "metadata": {
    "scrolled": true
   },
   "outputs": [
    {
     "data": {
      "text/html": [
       "<div>\n",
       "<style scoped>\n",
       "    .dataframe tbody tr th:only-of-type {\n",
       "        vertical-align: middle;\n",
       "    }\n",
       "\n",
       "    .dataframe tbody tr th {\n",
       "        vertical-align: top;\n",
       "    }\n",
       "\n",
       "    .dataframe thead th {\n",
       "        text-align: right;\n",
       "    }\n",
       "</style>\n",
       "<table border=\"1\" class=\"dataframe\">\n",
       "  <thead>\n",
       "    <tr style=\"text-align: right;\">\n",
       "      <th></th>\n",
       "      <th>Sl_No</th>\n",
       "      <th>Customer Key</th>\n",
       "      <th>Avg_Credit_Limit</th>\n",
       "      <th>Total_Credit_Cards</th>\n",
       "      <th>Total_visits_bank</th>\n",
       "      <th>Total_visits_online</th>\n",
       "      <th>Total_calls_made</th>\n",
       "    </tr>\n",
       "  </thead>\n",
       "  <tbody>\n",
       "    <tr>\n",
       "      <th>619</th>\n",
       "      <td>620</td>\n",
       "      <td>47650</td>\n",
       "      <td>158000</td>\n",
       "      <td>7</td>\n",
       "      <td>0</td>\n",
       "      <td>13</td>\n",
       "      <td>0</td>\n",
       "    </tr>\n",
       "    <tr>\n",
       "      <th>252</th>\n",
       "      <td>253</td>\n",
       "      <td>33457</td>\n",
       "      <td>9000</td>\n",
       "      <td>4</td>\n",
       "      <td>5</td>\n",
       "      <td>0</td>\n",
       "      <td>4</td>\n",
       "    </tr>\n",
       "    <tr>\n",
       "      <th>225</th>\n",
       "      <td>226</td>\n",
       "      <td>61234</td>\n",
       "      <td>16000</td>\n",
       "      <td>4</td>\n",
       "      <td>1</td>\n",
       "      <td>2</td>\n",
       "      <td>5</td>\n",
       "    </tr>\n",
       "    <tr>\n",
       "      <th>529</th>\n",
       "      <td>530</td>\n",
       "      <td>43679</td>\n",
       "      <td>34000</td>\n",
       "      <td>6</td>\n",
       "      <td>3</td>\n",
       "      <td>2</td>\n",
       "      <td>4</td>\n",
       "    </tr>\n",
       "    <tr>\n",
       "      <th>365</th>\n",
       "      <td>366</td>\n",
       "      <td>22348</td>\n",
       "      <td>13000</td>\n",
       "      <td>7</td>\n",
       "      <td>5</td>\n",
       "      <td>0</td>\n",
       "      <td>2</td>\n",
       "    </tr>\n",
       "  </tbody>\n",
       "</table>\n",
       "</div>"
      ],
      "text/plain": [
       "     Sl_No  Customer Key  Avg_Credit_Limit  Total_Credit_Cards  \\\n",
       "619    620         47650            158000                   7   \n",
       "252    253         33457              9000                   4   \n",
       "225    226         61234             16000                   4   \n",
       "529    530         43679             34000                   6   \n",
       "365    366         22348             13000                   7   \n",
       "\n",
       "     Total_visits_bank  Total_visits_online  Total_calls_made  \n",
       "619                  0                   13                 0  \n",
       "252                  5                    0                 4  \n",
       "225                  1                    2                 5  \n",
       "529                  3                    2                 4  \n",
       "365                  5                    0                 2  "
      ]
     },
     "execution_count": 5,
     "metadata": {},
     "output_type": "execute_result"
    }
   ],
   "source": [
    "# viewing a random sample of the dataset\n",
    "\n",
    "df.sample(5)"
   ]
  },
  {
   "cell_type": "markdown",
   "id": "4a4dff0b",
   "metadata": {},
   "source": [
    "### Replacing all the spaces in our column names"
   ]
  },
  {
   "cell_type": "code",
   "execution_count": 6,
   "id": "e9b16ecd",
   "metadata": {},
   "outputs": [],
   "source": [
    "# Putting an underscore in between all the spaces in our column names\n",
    "\n",
    "df.columns = df.columns.str.replace(\" \", \"_\")"
   ]
  },
  {
   "cell_type": "code",
   "execution_count": 7,
   "id": "0c5aac53",
   "metadata": {
    "scrolled": true
   },
   "outputs": [
    {
     "data": {
      "text/plain": [
       "Index(['Sl_No', 'Customer_Key', 'Avg_Credit_Limit', 'Total_Credit_Cards',\n",
       "       'Total_visits_bank', 'Total_visits_online', 'Total_calls_made'],\n",
       "      dtype='object')"
      ]
     },
     "execution_count": 7,
     "metadata": {},
     "output_type": "execute_result"
    }
   ],
   "source": [
    "df.columns"
   ]
  },
  {
   "cell_type": "markdown",
   "id": "35933995",
   "metadata": {},
   "source": [
    "Here are the 7 column names in our dataset"
   ]
  },
  {
   "cell_type": "markdown",
   "id": "472f7372",
   "metadata": {},
   "source": [
    "### Making a copy our dataset"
   ]
  },
  {
   "cell_type": "code",
   "execution_count": 8,
   "id": "9593f504",
   "metadata": {},
   "outputs": [],
   "source": [
    "# copying the data to another variable to avoid any changes to original data\n",
    "\n",
    "data = df.copy()"
   ]
  },
  {
   "cell_type": "code",
   "execution_count": 9,
   "id": "4b83bcff",
   "metadata": {},
   "outputs": [],
   "source": [
    "# dropping the serial no. and customer key columns as they do not provide any information\n",
    "\n",
    "data.drop([\"Sl_No\", \"Customer_Key\"], axis = 1, inplace=True)"
   ]
  },
  {
   "cell_type": "code",
   "execution_count": 10,
   "id": "8a963973",
   "metadata": {},
   "outputs": [
    {
     "data": {
      "text/html": [
       "<div>\n",
       "<style scoped>\n",
       "    .dataframe tbody tr th:only-of-type {\n",
       "        vertical-align: middle;\n",
       "    }\n",
       "\n",
       "    .dataframe tbody tr th {\n",
       "        vertical-align: top;\n",
       "    }\n",
       "\n",
       "    .dataframe thead th {\n",
       "        text-align: right;\n",
       "    }\n",
       "</style>\n",
       "<table border=\"1\" class=\"dataframe\">\n",
       "  <thead>\n",
       "    <tr style=\"text-align: right;\">\n",
       "      <th></th>\n",
       "      <th>Avg_Credit_Limit</th>\n",
       "      <th>Total_Credit_Cards</th>\n",
       "      <th>Total_visits_bank</th>\n",
       "      <th>Total_visits_online</th>\n",
       "      <th>Total_calls_made</th>\n",
       "    </tr>\n",
       "  </thead>\n",
       "  <tbody>\n",
       "    <tr>\n",
       "      <th>0</th>\n",
       "      <td>100000</td>\n",
       "      <td>2</td>\n",
       "      <td>1</td>\n",
       "      <td>1</td>\n",
       "      <td>0</td>\n",
       "    </tr>\n",
       "    <tr>\n",
       "      <th>1</th>\n",
       "      <td>50000</td>\n",
       "      <td>3</td>\n",
       "      <td>0</td>\n",
       "      <td>10</td>\n",
       "      <td>9</td>\n",
       "    </tr>\n",
       "    <tr>\n",
       "      <th>2</th>\n",
       "      <td>50000</td>\n",
       "      <td>7</td>\n",
       "      <td>1</td>\n",
       "      <td>3</td>\n",
       "      <td>4</td>\n",
       "    </tr>\n",
       "    <tr>\n",
       "      <th>3</th>\n",
       "      <td>30000</td>\n",
       "      <td>5</td>\n",
       "      <td>1</td>\n",
       "      <td>1</td>\n",
       "      <td>4</td>\n",
       "    </tr>\n",
       "    <tr>\n",
       "      <th>4</th>\n",
       "      <td>100000</td>\n",
       "      <td>6</td>\n",
       "      <td>0</td>\n",
       "      <td>12</td>\n",
       "      <td>3</td>\n",
       "    </tr>\n",
       "  </tbody>\n",
       "</table>\n",
       "</div>"
      ],
      "text/plain": [
       "   Avg_Credit_Limit  Total_Credit_Cards  Total_visits_bank  \\\n",
       "0            100000                   2                  1   \n",
       "1             50000                   3                  0   \n",
       "2             50000                   7                  1   \n",
       "3             30000                   5                  1   \n",
       "4            100000                   6                  0   \n",
       "\n",
       "   Total_visits_online  Total_calls_made  \n",
       "0                    1                 0  \n",
       "1                   10                 9  \n",
       "2                    3                 4  \n",
       "3                    1                 4  \n",
       "4                   12                 3  "
      ]
     },
     "execution_count": 10,
     "metadata": {},
     "output_type": "execute_result"
    }
   ],
   "source": [
    "# Sanity Check\n",
    "\n",
    "data.head()"
   ]
  },
  {
   "cell_type": "markdown",
   "id": "7c6eaf40",
   "metadata": {},
   "source": [
    "### Checking the data types of the columns for the dataset"
   ]
  },
  {
   "cell_type": "code",
   "execution_count": 11,
   "id": "0e8f2c9f",
   "metadata": {},
   "outputs": [
    {
     "name": "stdout",
     "output_type": "stream",
     "text": [
      "<class 'pandas.core.frame.DataFrame'>\n",
      "RangeIndex: 660 entries, 0 to 659\n",
      "Data columns (total 5 columns):\n",
      " #   Column               Non-Null Count  Dtype\n",
      "---  ------               --------------  -----\n",
      " 0   Avg_Credit_Limit     660 non-null    int64\n",
      " 1   Total_Credit_Cards   660 non-null    int64\n",
      " 2   Total_visits_bank    660 non-null    int64\n",
      " 3   Total_visits_online  660 non-null    int64\n",
      " 4   Total_calls_made     660 non-null    int64\n",
      "dtypes: int64(5)\n",
      "memory usage: 25.9 KB\n"
     ]
    }
   ],
   "source": [
    "data.info()"
   ]
  },
  {
   "cell_type": "markdown",
   "id": "d746166e",
   "metadata": {},
   "source": [
    "**Observations**\n",
    "\n",
    "- All the variables are of type *int* (integer)."
   ]
  },
  {
   "cell_type": "markdown",
   "id": "662db8fb",
   "metadata": {},
   "source": [
    "### Checking for missing values"
   ]
  },
  {
   "cell_type": "code",
   "execution_count": 12,
   "id": "f6a0171c",
   "metadata": {},
   "outputs": [
    {
     "data": {
      "text/plain": [
       "Avg_Credit_Limit       0\n",
       "Total_Credit_Cards     0\n",
       "Total_visits_bank      0\n",
       "Total_visits_online    0\n",
       "Total_calls_made       0\n",
       "dtype: int64"
      ]
     },
     "execution_count": 12,
     "metadata": {},
     "output_type": "execute_result"
    }
   ],
   "source": [
    "# checking for missing values\n",
    "\n",
    "data.isnull().sum()"
   ]
  },
  {
   "cell_type": "markdown",
   "id": "0af02550",
   "metadata": {},
   "source": [
    "- There are no missing values in our data"
   ]
  },
  {
   "cell_type": "markdown",
   "id": "a74c8e47",
   "metadata": {},
   "source": [
    "### Statistical summary of the dataset"
   ]
  },
  {
   "cell_type": "code",
   "execution_count": 13,
   "id": "26ec547e",
   "metadata": {
    "scrolled": true
   },
   "outputs": [
    {
     "data": {
      "text/html": [
       "<div>\n",
       "<style scoped>\n",
       "    .dataframe tbody tr th:only-of-type {\n",
       "        vertical-align: middle;\n",
       "    }\n",
       "\n",
       "    .dataframe tbody tr th {\n",
       "        vertical-align: top;\n",
       "    }\n",
       "\n",
       "    .dataframe thead th {\n",
       "        text-align: right;\n",
       "    }\n",
       "</style>\n",
       "<table border=\"1\" class=\"dataframe\">\n",
       "  <thead>\n",
       "    <tr style=\"text-align: right;\">\n",
       "      <th></th>\n",
       "      <th>Avg_Credit_Limit</th>\n",
       "      <th>Total_Credit_Cards</th>\n",
       "      <th>Total_visits_bank</th>\n",
       "      <th>Total_visits_online</th>\n",
       "      <th>Total_calls_made</th>\n",
       "    </tr>\n",
       "  </thead>\n",
       "  <tbody>\n",
       "    <tr>\n",
       "      <th>count</th>\n",
       "      <td>660.000000</td>\n",
       "      <td>660.000000</td>\n",
       "      <td>660.000000</td>\n",
       "      <td>660.000000</td>\n",
       "      <td>660.000000</td>\n",
       "    </tr>\n",
       "    <tr>\n",
       "      <th>mean</th>\n",
       "      <td>34574.242424</td>\n",
       "      <td>4.706061</td>\n",
       "      <td>2.403030</td>\n",
       "      <td>2.606061</td>\n",
       "      <td>3.583333</td>\n",
       "    </tr>\n",
       "    <tr>\n",
       "      <th>std</th>\n",
       "      <td>37625.487804</td>\n",
       "      <td>2.167835</td>\n",
       "      <td>1.631813</td>\n",
       "      <td>2.935724</td>\n",
       "      <td>2.865317</td>\n",
       "    </tr>\n",
       "    <tr>\n",
       "      <th>min</th>\n",
       "      <td>3000.000000</td>\n",
       "      <td>1.000000</td>\n",
       "      <td>0.000000</td>\n",
       "      <td>0.000000</td>\n",
       "      <td>0.000000</td>\n",
       "    </tr>\n",
       "    <tr>\n",
       "      <th>25%</th>\n",
       "      <td>10000.000000</td>\n",
       "      <td>3.000000</td>\n",
       "      <td>1.000000</td>\n",
       "      <td>1.000000</td>\n",
       "      <td>1.000000</td>\n",
       "    </tr>\n",
       "    <tr>\n",
       "      <th>50%</th>\n",
       "      <td>18000.000000</td>\n",
       "      <td>5.000000</td>\n",
       "      <td>2.000000</td>\n",
       "      <td>2.000000</td>\n",
       "      <td>3.000000</td>\n",
       "    </tr>\n",
       "    <tr>\n",
       "      <th>75%</th>\n",
       "      <td>48000.000000</td>\n",
       "      <td>6.000000</td>\n",
       "      <td>4.000000</td>\n",
       "      <td>4.000000</td>\n",
       "      <td>5.000000</td>\n",
       "    </tr>\n",
       "    <tr>\n",
       "      <th>max</th>\n",
       "      <td>200000.000000</td>\n",
       "      <td>10.000000</td>\n",
       "      <td>5.000000</td>\n",
       "      <td>15.000000</td>\n",
       "      <td>10.000000</td>\n",
       "    </tr>\n",
       "  </tbody>\n",
       "</table>\n",
       "</div>"
      ],
      "text/plain": [
       "       Avg_Credit_Limit  Total_Credit_Cards  Total_visits_bank  \\\n",
       "count        660.000000          660.000000         660.000000   \n",
       "mean       34574.242424            4.706061           2.403030   \n",
       "std        37625.487804            2.167835           1.631813   \n",
       "min         3000.000000            1.000000           0.000000   \n",
       "25%        10000.000000            3.000000           1.000000   \n",
       "50%        18000.000000            5.000000           2.000000   \n",
       "75%        48000.000000            6.000000           4.000000   \n",
       "max       200000.000000           10.000000           5.000000   \n",
       "\n",
       "       Total_visits_online  Total_calls_made  \n",
       "count           660.000000        660.000000  \n",
       "mean              2.606061          3.583333  \n",
       "std               2.935724          2.865317  \n",
       "min               0.000000          0.000000  \n",
       "25%               1.000000          1.000000  \n",
       "50%               2.000000          3.000000  \n",
       "75%               4.000000          5.000000  \n",
       "max              15.000000         10.000000  "
      ]
     },
     "execution_count": 13,
     "metadata": {},
     "output_type": "execute_result"
    }
   ],
   "source": [
    "data.describe()"
   ]
  },
  {
   "cell_type": "markdown",
   "id": "c781c5de",
   "metadata": {},
   "source": [
    "**Observations**\n",
    "\n",
    "- The median value of average credit limit is 18000 and the maximum average card limit is 200,000. The mean is 34574\n",
    "\n",
    "\n",
    "- The average total number of credit cards possessed by a customer 4 and the maximum is 10\n",
    "\n",
    "\n",
    "- The maximum total visits to the bank is 5 with an average of 2.4. This means that most customers didn't visit the bank more than 2 times yearly\n",
    "\n",
    "\n",
    "- The average of total visits online is 2.6 and the median is 2. This means that half of the customers in our data have loggedin online at least twice a year\n",
    "\n",
    "\n",
    "- The maximum total number of calls made by the customer to the bank or its customer service department (yearly) is 10 and the median is 3.\n",
    " "
   ]
  },
  {
   "cell_type": "markdown",
   "id": "7327e382",
   "metadata": {},
   "source": [
    "### Checking for duplicates"
   ]
  },
  {
   "cell_type": "code",
   "execution_count": 14,
   "id": "c0df1625",
   "metadata": {},
   "outputs": [
    {
     "data": {
      "text/plain": [
       "11"
      ]
     },
     "execution_count": 14,
     "metadata": {},
     "output_type": "execute_result"
    }
   ],
   "source": [
    "# Checking for duplicate observations\n",
    "\n",
    "data.duplicated().sum()"
   ]
  },
  {
   "cell_type": "markdown",
   "id": "85ca98ff",
   "metadata": {},
   "source": [
    "- There are 11 duplicate observations. We will remove them from the data."
   ]
  },
  {
   "cell_type": "code",
   "execution_count": 15,
   "id": "f1460eca",
   "metadata": {},
   "outputs": [
    {
     "data": {
      "text/html": [
       "<div>\n",
       "<style scoped>\n",
       "    .dataframe tbody tr th:only-of-type {\n",
       "        vertical-align: middle;\n",
       "    }\n",
       "\n",
       "    .dataframe tbody tr th {\n",
       "        vertical-align: top;\n",
       "    }\n",
       "\n",
       "    .dataframe thead th {\n",
       "        text-align: right;\n",
       "    }\n",
       "</style>\n",
       "<table border=\"1\" class=\"dataframe\">\n",
       "  <thead>\n",
       "    <tr style=\"text-align: right;\">\n",
       "      <th></th>\n",
       "      <th>Avg_Credit_Limit</th>\n",
       "      <th>Total_Credit_Cards</th>\n",
       "      <th>Total_visits_bank</th>\n",
       "      <th>Total_visits_online</th>\n",
       "      <th>Total_calls_made</th>\n",
       "    </tr>\n",
       "  </thead>\n",
       "  <tbody>\n",
       "    <tr>\n",
       "      <th>162</th>\n",
       "      <td>8000</td>\n",
       "      <td>2</td>\n",
       "      <td>0</td>\n",
       "      <td>3</td>\n",
       "      <td>4</td>\n",
       "    </tr>\n",
       "    <tr>\n",
       "      <th>175</th>\n",
       "      <td>6000</td>\n",
       "      <td>1</td>\n",
       "      <td>0</td>\n",
       "      <td>2</td>\n",
       "      <td>5</td>\n",
       "    </tr>\n",
       "    <tr>\n",
       "      <th>215</th>\n",
       "      <td>8000</td>\n",
       "      <td>4</td>\n",
       "      <td>0</td>\n",
       "      <td>4</td>\n",
       "      <td>7</td>\n",
       "    </tr>\n",
       "    <tr>\n",
       "      <th>295</th>\n",
       "      <td>10000</td>\n",
       "      <td>6</td>\n",
       "      <td>4</td>\n",
       "      <td>2</td>\n",
       "      <td>3</td>\n",
       "    </tr>\n",
       "    <tr>\n",
       "      <th>324</th>\n",
       "      <td>9000</td>\n",
       "      <td>4</td>\n",
       "      <td>5</td>\n",
       "      <td>0</td>\n",
       "      <td>4</td>\n",
       "    </tr>\n",
       "    <tr>\n",
       "      <th>361</th>\n",
       "      <td>18000</td>\n",
       "      <td>6</td>\n",
       "      <td>3</td>\n",
       "      <td>1</td>\n",
       "      <td>4</td>\n",
       "    </tr>\n",
       "    <tr>\n",
       "      <th>378</th>\n",
       "      <td>12000</td>\n",
       "      <td>6</td>\n",
       "      <td>5</td>\n",
       "      <td>2</td>\n",
       "      <td>1</td>\n",
       "    </tr>\n",
       "    <tr>\n",
       "      <th>385</th>\n",
       "      <td>8000</td>\n",
       "      <td>7</td>\n",
       "      <td>4</td>\n",
       "      <td>2</td>\n",
       "      <td>0</td>\n",
       "    </tr>\n",
       "    <tr>\n",
       "      <th>395</th>\n",
       "      <td>5000</td>\n",
       "      <td>4</td>\n",
       "      <td>5</td>\n",
       "      <td>0</td>\n",
       "      <td>1</td>\n",
       "    </tr>\n",
       "    <tr>\n",
       "      <th>455</th>\n",
       "      <td>47000</td>\n",
       "      <td>6</td>\n",
       "      <td>2</td>\n",
       "      <td>0</td>\n",
       "      <td>4</td>\n",
       "    </tr>\n",
       "    <tr>\n",
       "      <th>497</th>\n",
       "      <td>52000</td>\n",
       "      <td>4</td>\n",
       "      <td>2</td>\n",
       "      <td>1</td>\n",
       "      <td>2</td>\n",
       "    </tr>\n",
       "  </tbody>\n",
       "</table>\n",
       "</div>"
      ],
      "text/plain": [
       "     Avg_Credit_Limit  Total_Credit_Cards  Total_visits_bank  \\\n",
       "162              8000                   2                  0   \n",
       "175              6000                   1                  0   \n",
       "215              8000                   4                  0   \n",
       "295             10000                   6                  4   \n",
       "324              9000                   4                  5   \n",
       "361             18000                   6                  3   \n",
       "378             12000                   6                  5   \n",
       "385              8000                   7                  4   \n",
       "395              5000                   4                  5   \n",
       "455             47000                   6                  2   \n",
       "497             52000                   4                  2   \n",
       "\n",
       "     Total_visits_online  Total_calls_made  \n",
       "162                    3                 4  \n",
       "175                    2                 5  \n",
       "215                    4                 7  \n",
       "295                    2                 3  \n",
       "324                    0                 4  \n",
       "361                    1                 4  \n",
       "378                    2                 1  \n",
       "385                    2                 0  \n",
       "395                    0                 1  \n",
       "455                    0                 4  \n",
       "497                    1                 2  "
      ]
     },
     "execution_count": 15,
     "metadata": {},
     "output_type": "execute_result"
    }
   ],
   "source": [
    "# rowss of data with duplicates\n",
    "\n",
    "data[data.duplicated() == True]"
   ]
  },
  {
   "cell_type": "code",
   "execution_count": 16,
   "id": "743aec5d",
   "metadata": {},
   "outputs": [],
   "source": [
    "# drop the duplicates\n",
    "\n",
    "data.drop_duplicates(inplace = True)\n",
    "\n",
    "data.reset_index(drop = True, inplace = True)"
   ]
  },
  {
   "cell_type": "code",
   "execution_count": 17,
   "id": "631b5495",
   "metadata": {},
   "outputs": [
    {
     "data": {
      "text/plain": [
       "0"
      ]
     },
     "execution_count": 17,
     "metadata": {},
     "output_type": "execute_result"
    }
   ],
   "source": [
    "# Sanity check\n",
    "\n",
    "data.duplicated().sum()"
   ]
  },
  {
   "cell_type": "markdown",
   "id": "675c3b1b",
   "metadata": {},
   "source": [
    "There are no duplicates in our dataset"
   ]
  },
  {
   "cell_type": "markdown",
   "id": "a6313b6d",
   "metadata": {},
   "source": [
    "### Exploratory Data Analysis"
   ]
  },
  {
   "cell_type": "code",
   "execution_count": 18,
   "id": "54756be8",
   "metadata": {},
   "outputs": [],
   "source": [
    "from utils import labeled_barplot, histogram_boxplot"
   ]
  },
  {
   "cell_type": "markdown",
   "id": "e676f2b8",
   "metadata": {},
   "source": [
    "### Univariate Analysis"
   ]
  },
  {
   "cell_type": "code",
   "execution_count": 19,
   "id": "26a9d157",
   "metadata": {},
   "outputs": [
    {
     "name": "stdout",
     "output_type": "stream",
     "text": [
      "['Total_Credit_Cards', 'Total_visits_bank', 'Total_visits_online', 'Total_calls_made']\n"
     ]
    }
   ],
   "source": [
    "# select the numerical features as a list of numerical columns\n",
    "num_col = data.drop(\"Avg_Credit_Limit\", axis=1).columns.tolist()\n",
    "\n",
    "print(num_col)\n"
   ]
  },
  {
   "cell_type": "code",
   "execution_count": 20,
   "id": "e1b21562",
   "metadata": {
    "scrolled": false
   },
   "outputs": [
    {
     "data": {
      "image/png": "[encoded data removed]",
      "text/plain": [
       "<Figure size 1100x500 with 1 Axes>"
      ]
     },
     "metadata": {},
     "output_type": "display_data"
    },
    {
     "data": {
      "image/png": "[encoded data removed]",
      "text/plain": [
       "<Figure size 700x500 with 1 Axes>"
      ]
     },
     "metadata": {},
     "output_type": "display_data"
    },
    {
     "data": {
      "image/png": "[encoded data removed]",
      "text/plain": [
       "<Figure size 1700x500 with 1 Axes>"
      ]
     },
     "metadata": {},
     "output_type": "display_data"
    },
    {
     "data": {
      "image/png": "[encoded data removed]",
      "text/plain": [
       "<Figure size 1200x500 with 1 Axes>"
      ]
     },
     "metadata": {},
     "output_type": "display_data"
    }
   ],
   "source": [
    "# loop through each column and create a bar plot for each feature\n",
    "\n",
    "for col in num_col:\n",
    "    labeled_barplot(data = df, feature=col, perc=True)"
   ]
  },
  {
   "cell_type": "markdown",
   "id": "07b7cb3e",
   "metadata": {},
   "source": [
    "***Observations***\n",
    "\n",
    "- 67.1% of customers in this bank have between 4 to 7 credit cards, and 26.6% have between 1 to 3 credit cards.\n",
    "\n",
    "\n",
    "- Among the customers in our data, 15.2% have never visited the bank, while the largest number of visits is 2, comprising 23.9% of the total visits.\n",
    "\n",
    "\n",
    "- Approximately 21.8% of customers have never logged in online, while over 16% have logged in online more than 5 times in a year.\n",
    "\n",
    "\n",
    "- The highest number of calls made by a customer to the bank or its customer service department (yearly) is 4, which accounts for 16.4% of the total calls."
   ]
  },
  {
   "cell_type": "code",
   "execution_count": 21,
   "id": "dc098384",
   "metadata": {},
   "outputs": [
    {
     "data": {
      "image/png": "[encoded data removed]",
      "text/plain": [
       "<Figure size 900x500 with 2 Axes>"
      ]
     },
     "metadata": {},
     "output_type": "display_data"
    }
   ],
   "source": [
    "# Histogram and boxplot for the Average Credit Limit\n",
    "\n",
    "histogram_boxplot(data = data, feature = \"Avg_Credit_Limit\")"
   ]
  },
  {
   "cell_type": "markdown",
   "id": "d1f224b1",
   "metadata": {},
   "source": [
    "**Observation**\n",
    "\n",
    "- The average credit limit frequency distribution is rightly skewed with outliers after the upper quartile.\n",
    "- Most customers have an average credit limit of less than 25,000"
   ]
  },
  {
   "cell_type": "markdown",
   "id": "28ba4b4d",
   "metadata": {},
   "source": [
    "### Bivariate Analsysis"
   ]
  },
  {
   "cell_type": "markdown",
   "id": "0d652121",
   "metadata": {},
   "source": [
    "**Let's check for correlations.**"
   ]
  },
  {
   "cell_type": "code",
   "execution_count": 22,
   "id": "b18f261d",
   "metadata": {},
   "outputs": [
    {
     "data": {
      "image/png": "[encoded data removed]",
      "text/plain": [
       "<Figure size 500x300 with 2 Axes>"
      ]
     },
     "metadata": {},
     "output_type": "display_data"
    }
   ],
   "source": [
    "cor = data.corr()\n",
    "\n",
    "plt.figure(figsize=(5, 3))\n",
    "sns.heatmap(cor, vmin = -1, vmax = 1, cmap = \"Spectral\", annot=True, fmt=\".2f\")\n",
    "plt.show()"
   ]
  },
  {
   "cell_type": "markdown",
   "id": "2e6eea11",
   "metadata": {},
   "source": [
    "**Observation**\n",
    "\n",
    "- The Total number of credit cards is strongly positively correlated with the average card limit for each customers. This is likely so because the higher the number of credit cards owned by a customer the higher the average card limit\n",
    "\n",
    "\n",
    "- The average card limit is also strongly positively correlated with the total  number of online visits or online logins made by the customer (yearly). In other words, customers who visit the bank more frequently or log in online more often are likely to have higher average credit limits.\n",
    "\n",
    "\n",
    "- The total number of credit cards is slightly positively correlated with the total number of visits that customer made (yearly) personally to the bank "
   ]
  },
  {
   "cell_type": "markdown",
   "id": "ca847162",
   "metadata": {},
   "source": [
    "### Feature Scaling"
   ]
  },
  {
   "cell_type": "code",
   "execution_count": 23,
   "id": "21268519",
   "metadata": {},
   "outputs": [],
   "source": [
    "# scaling the dataset before clustering\n",
    "\n",
    "scaler = StandardScaler()\n",
    "data_sd = scaler.fit_transform(data)"
   ]
  },
  {
   "cell_type": "code",
   "execution_count": 24,
   "id": "319cbf51",
   "metadata": {
    "scrolled": true
   },
   "outputs": [
    {
     "data": {
      "text/plain": [
       "array([[ 1.72349946, -1.24708705, -0.86060646, -0.55040688, -1.24844298],\n",
       "       [ 0.40020878, -0.78670054, -1.47640975,  2.49980809,  1.88123746],\n",
       "       [ 0.40020878,  1.05484553, -0.86060646,  0.12741867,  0.14252611],\n",
       "       ...,\n",
       "       [ 2.91446107,  1.51523205, -0.86060646,  2.16089532, -0.9007007 ],\n",
       "       [ 3.62903804,  2.43600508, -0.86060646,  4.19437197, -1.24844298],\n",
       "       [ 3.49670897,  1.97561857, -1.47640975,  3.17763364, -0.55295843]])"
      ]
     },
     "execution_count": 24,
     "metadata": {},
     "output_type": "execute_result"
    }
   ],
   "source": [
    "data_sd"
   ]
  },
  {
   "cell_type": "code",
   "execution_count": 25,
   "id": "4ab91ee4",
   "metadata": {},
   "outputs": [
    {
     "data": {
      "text/html": [
       "<div>\n",
       "<style scoped>\n",
       "    .dataframe tbody tr th:only-of-type {\n",
       "        vertical-align: middle;\n",
       "    }\n",
       "\n",
       "    .dataframe tbody tr th {\n",
       "        vertical-align: top;\n",
       "    }\n",
       "\n",
       "    .dataframe thead th {\n",
       "        text-align: right;\n",
       "    }\n",
       "</style>\n",
       "<table border=\"1\" class=\"dataframe\">\n",
       "  <thead>\n",
       "    <tr style=\"text-align: right;\">\n",
       "      <th></th>\n",
       "      <th>Avg_Credit_Limit</th>\n",
       "      <th>Total_Credit_Cards</th>\n",
       "      <th>Total_visits_bank</th>\n",
       "      <th>Total_visits_online</th>\n",
       "      <th>Total_calls_made</th>\n",
       "    </tr>\n",
       "  </thead>\n",
       "  <tbody>\n",
       "    <tr>\n",
       "      <th>0</th>\n",
       "      <td>1.723499</td>\n",
       "      <td>-1.247087</td>\n",
       "      <td>-0.860606</td>\n",
       "      <td>-0.550407</td>\n",
       "      <td>-1.248443</td>\n",
       "    </tr>\n",
       "    <tr>\n",
       "      <th>1</th>\n",
       "      <td>0.400209</td>\n",
       "      <td>-0.786701</td>\n",
       "      <td>-1.476410</td>\n",
       "      <td>2.499808</td>\n",
       "      <td>1.881237</td>\n",
       "    </tr>\n",
       "    <tr>\n",
       "      <th>2</th>\n",
       "      <td>0.400209</td>\n",
       "      <td>1.054846</td>\n",
       "      <td>-0.860606</td>\n",
       "      <td>0.127419</td>\n",
       "      <td>0.142526</td>\n",
       "    </tr>\n",
       "    <tr>\n",
       "      <th>3</th>\n",
       "      <td>-0.129107</td>\n",
       "      <td>0.134072</td>\n",
       "      <td>-0.860606</td>\n",
       "      <td>-0.550407</td>\n",
       "      <td>0.142526</td>\n",
       "    </tr>\n",
       "    <tr>\n",
       "      <th>4</th>\n",
       "      <td>1.723499</td>\n",
       "      <td>0.594459</td>\n",
       "      <td>-1.476410</td>\n",
       "      <td>3.177634</td>\n",
       "      <td>-0.205216</td>\n",
       "    </tr>\n",
       "    <tr>\n",
       "      <th>...</th>\n",
       "      <td>...</td>\n",
       "      <td>...</td>\n",
       "      <td>...</td>\n",
       "      <td>...</td>\n",
       "      <td>...</td>\n",
       "    </tr>\n",
       "    <tr>\n",
       "      <th>644</th>\n",
       "      <td>1.697034</td>\n",
       "      <td>2.436005</td>\n",
       "      <td>-0.860606</td>\n",
       "      <td>2.499808</td>\n",
       "      <td>-1.248443</td>\n",
       "    </tr>\n",
       "    <tr>\n",
       "      <th>645</th>\n",
       "      <td>1.300046</td>\n",
       "      <td>2.436005</td>\n",
       "      <td>-0.860606</td>\n",
       "      <td>3.516546</td>\n",
       "      <td>-0.552958</td>\n",
       "    </tr>\n",
       "    <tr>\n",
       "      <th>646</th>\n",
       "      <td>2.914461</td>\n",
       "      <td>1.515232</td>\n",
       "      <td>-0.860606</td>\n",
       "      <td>2.160895</td>\n",
       "      <td>-0.900701</td>\n",
       "    </tr>\n",
       "    <tr>\n",
       "      <th>647</th>\n",
       "      <td>3.629038</td>\n",
       "      <td>2.436005</td>\n",
       "      <td>-0.860606</td>\n",
       "      <td>4.194372</td>\n",
       "      <td>-1.248443</td>\n",
       "    </tr>\n",
       "    <tr>\n",
       "      <th>648</th>\n",
       "      <td>3.496709</td>\n",
       "      <td>1.975619</td>\n",
       "      <td>-1.476410</td>\n",
       "      <td>3.177634</td>\n",
       "      <td>-0.552958</td>\n",
       "    </tr>\n",
       "  </tbody>\n",
       "</table>\n",
       "<p>649 rows × 5 columns</p>\n",
       "</div>"
      ],
      "text/plain": [
       "     Avg_Credit_Limit  Total_Credit_Cards  Total_visits_bank  \\\n",
       "0            1.723499           -1.247087          -0.860606   \n",
       "1            0.400209           -0.786701          -1.476410   \n",
       "2            0.400209            1.054846          -0.860606   \n",
       "3           -0.129107            0.134072          -0.860606   \n",
       "4            1.723499            0.594459          -1.476410   \n",
       "..                ...                 ...                ...   \n",
       "644          1.697034            2.436005          -0.860606   \n",
       "645          1.300046            2.436005          -0.860606   \n",
       "646          2.914461            1.515232          -0.860606   \n",
       "647          3.629038            2.436005          -0.860606   \n",
       "648          3.496709            1.975619          -1.476410   \n",
       "\n",
       "     Total_visits_online  Total_calls_made  \n",
       "0              -0.550407         -1.248443  \n",
       "1               2.499808          1.881237  \n",
       "2               0.127419          0.142526  \n",
       "3              -0.550407          0.142526  \n",
       "4               3.177634         -0.205216  \n",
       "..                   ...               ...  \n",
       "644             2.499808         -1.248443  \n",
       "645             3.516546         -0.552958  \n",
       "646             2.160895         -0.900701  \n",
       "647             4.194372         -1.248443  \n",
       "648             3.177634         -0.552958  \n",
       "\n",
       "[649 rows x 5 columns]"
      ]
     },
     "execution_count": 25,
     "metadata": {},
     "output_type": "execute_result"
    }
   ],
   "source": [
    "# creating a dataframe of the scaled columns\n",
    "\n",
    "scaled_data = pd.DataFrame(data_sd, columns = data.columns)\n",
    "\n",
    "scaled_data\n"
   ]
  },
  {
   "cell_type": "markdown",
   "id": "87f36da2",
   "metadata": {},
   "source": [
    "### K-Means Clustering"
   ]
  },
  {
   "cell_type": "code",
   "execution_count": 26,
   "id": "525beb6e",
   "metadata": {},
   "outputs": [
    {
     "data": {
      "text/plain": [
       "KMeans(random_state=0)"
      ]
     },
     "execution_count": 26,
     "metadata": {},
     "output_type": "execute_result"
    }
   ],
   "source": [
    "# building the K-Means cluster model with a default of 8 clusters\n",
    "\n",
    "kmeans = KMeans(random_state=0)\n",
    "\n",
    "kmeans.fit( scaled_data)"
   ]
  },
  {
   "cell_type": "code",
   "execution_count": 27,
   "id": "431b5fce",
   "metadata": {},
   "outputs": [
    {
     "data": {
      "text/plain": [
       "551.152578895879"
      ]
     },
     "execution_count": 27,
     "metadata": {},
     "output_type": "execute_result"
    }
   ],
   "source": [
    "# finding the inertia for the default number of clusters\n",
    "\n",
    "kmeans.inertia_"
   ]
  },
  {
   "cell_type": "markdown",
   "id": "397305a0",
   "metadata": {},
   "source": [
    "- The inertia for the 8 clusters is high, meaning that there is a high distance between the data points in our clusters and the centroid"
   ]
  },
  {
   "cell_type": "code",
   "execution_count": 28,
   "id": "ee9d9f51",
   "metadata": {},
   "outputs": [
    {
     "data": {
      "text/plain": [
       "array([0, 1, 0, 6, 4, 1, 4, 5, 5, 1, 5, 1, 1, 5, 5, 1, 5, 5, 1, 1, 5, 1,\n",
       "       5, 5, 1, 1, 1, 1, 5, 1, 5, 5, 1, 5, 1, 5, 1, 5, 1, 1, 1, 1, 5, 5,\n",
       "       5, 1, 5, 5, 1, 5, 1, 5, 1, 1, 1, 5, 5, 1, 1, 1, 1, 1, 5, 5, 1, 5,\n",
       "       5, 5, 1, 1, 1, 1, 5, 5, 1, 5, 5, 5, 1, 1, 1, 5, 5, 5, 5, 5, 1, 5,\n",
       "       1, 1, 5, 1, 5, 1, 5, 1, 5, 5, 1, 5, 5, 1, 1, 1, 1, 1, 5, 5, 5, 1,\n",
       "       5, 1, 1, 5, 5, 1, 1, 1, 5, 1, 5, 1, 5, 1, 1, 5, 1, 1, 5, 5, 5, 5,\n",
       "       5, 1, 1, 5, 1, 1, 1, 1, 1, 5, 1, 5, 1, 5, 1, 5, 1, 1, 1, 5, 5, 5,\n",
       "       1, 5, 1, 1, 1, 5, 1, 5, 1, 1, 1, 1, 5, 1, 1, 1, 1, 5, 1, 1, 5, 1,\n",
       "       1, 5, 5, 1, 1, 1, 5, 5, 5, 1, 5, 5, 1, 5, 5, 1, 5, 1, 1, 1, 1, 1,\n",
       "       1, 1, 1, 1, 5, 5, 5, 5, 1, 1, 5, 5, 5, 1, 1, 5, 5, 1, 1, 1, 5, 1,\n",
       "       1, 1, 5, 1, 1, 6, 6, 3, 6, 3, 6, 3, 3, 3, 3, 6, 6, 6, 3, 6, 3, 6,\n",
       "       6, 3, 6, 3, 3, 6, 6, 3, 6, 6, 3, 6, 3, 6, 3, 3, 6, 3, 6, 3, 3, 3,\n",
       "       3, 3, 3, 3, 6, 6, 3, 3, 6, 3, 3, 3, 3, 3, 6, 6, 6, 6, 3, 3, 6, 6,\n",
       "       3, 6, 6, 6, 6, 3, 3, 3, 3, 3, 3, 3, 6, 3, 3, 3, 6, 6, 3, 3, 3, 6,\n",
       "       6, 5, 6, 6, 3, 3, 3, 6, 3, 3, 6, 6, 3, 3, 3, 3, 3, 6, 3, 6, 3, 3,\n",
       "       3, 3, 6, 6, 6, 6, 6, 3, 6, 6, 3, 6, 6, 3, 6, 6, 6, 6, 3, 3, 3, 3,\n",
       "       3, 6, 6, 6, 3, 6, 3, 3, 3, 6, 6, 3, 6, 6, 3, 3, 3, 6, 3, 6, 6, 6,\n",
       "       6, 6, 6, 3, 6, 6, 3, 3, 6, 3, 3, 6, 3, 7, 0, 0, 0, 0, 7, 0, 0, 0,\n",
       "       0, 0, 7, 0, 0, 0, 7, 3, 7, 0, 0, 0, 7, 0, 7, 0, 7, 0, 0, 3, 0, 0,\n",
       "       7, 7, 3, 7, 7, 0, 0, 0, 7, 0, 0, 6, 7, 0, 6, 0, 7, 7, 7, 7, 0, 3,\n",
       "       6, 0, 3, 7, 7, 6, 7, 0, 0, 7, 3, 3, 7, 3, 0, 7, 0, 3, 3, 0, 3, 0,\n",
       "       6, 6, 0, 7, 7, 7, 6, 0, 0, 6, 0, 3, 3, 0, 0, 7, 7, 7, 0, 7, 7, 6,\n",
       "       6, 0, 0, 3, 7, 7, 6, 0, 0, 7, 0, 3, 0, 0, 3, 6, 0, 0, 0, 6, 3, 7,\n",
       "       0, 7, 0, 7, 0, 7, 0, 0, 7, 6, 6, 6, 6, 0, 6, 0, 6, 7, 3, 7, 0, 7,\n",
       "       7, 0, 7, 7, 0, 0, 7, 0, 3, 0, 7, 7, 6, 0, 7, 6, 7, 7, 7, 7, 7, 0,\n",
       "       7, 0, 7, 7, 7, 7, 6, 7, 7, 0, 6, 7, 0, 0, 0, 6, 0, 7, 0, 7, 3, 7,\n",
       "       0, 7, 7, 6, 0, 0, 3, 6, 0, 7, 7, 0, 7, 7, 7, 7, 0, 7, 3, 7, 0, 6,\n",
       "       6, 0, 6, 7, 0, 6, 7, 2, 4, 4, 4, 4, 2, 2, 2, 2, 2, 2, 4, 2, 4, 4,\n",
       "       2, 2, 4, 2, 2, 4, 4, 4, 4, 4, 2, 4, 2, 2, 4, 4, 4, 2, 2, 4, 4, 4,\n",
       "       4, 2, 2, 4, 2, 4, 4, 2, 4, 2, 2])"
      ]
     },
     "execution_count": 28,
     "metadata": {},
     "output_type": "execute_result"
    }
   ],
   "source": [
    "# predicting the clusters of the customers in our data\n",
    "\n",
    "y_pred = kmeans.predict(scaled_data)\n",
    "\n",
    "y_pred"
   ]
  },
  {
   "cell_type": "code",
   "execution_count": 29,
   "id": "0a2ea902",
   "metadata": {},
   "outputs": [
    {
     "data": {
      "text/plain": [
       "0.22674118832294698"
      ]
     },
     "execution_count": 29,
     "metadata": {},
     "output_type": "execute_result"
    }
   ],
   "source": [
    "# checking the silhouette score for the default number of clusters\n",
    "\n",
    "silhouette_score(scaled_data, y_pred)"
   ]
  },
  {
   "cell_type": "markdown",
   "id": "9aea03fc",
   "metadata": {},
   "source": [
    "- The sihouette score is low, implying that our clusters are poorly segmented"
   ]
  },
  {
   "cell_type": "markdown",
   "id": "9c3a7289",
   "metadata": {},
   "source": [
    "#### Choosing optimal number of clusters"
   ]
  },
  {
   "cell_type": "code",
   "execution_count": 30,
   "id": "c340d449",
   "metadata": {
    "scrolled": false
   },
   "outputs": [
    {
     "name": "stdout",
     "output_type": "stream",
     "text": [
      "Number of Clusters: 1 \tAverage Distortion: 2.007896349270688\n",
      "Number of Clusters: 2 \tAverage Distortion: 1.4576197022077821\n",
      "Number of Clusters: 3 \tAverage Distortion: 1.1434401208195095\n",
      "Number of Clusters: 4 \tAverage Distortion: 1.0435538595477063\n",
      "Number of Clusters: 5 \tAverage Distortion: 0.9878677336058027\n",
      "Number of Clusters: 6 \tAverage Distortion: 0.9401357424610066\n",
      "Number of Clusters: 7 \tAverage Distortion: 0.907392720077748\n",
      "Number of Clusters: 8 \tAverage Distortion: 0.883355699253853\n"
     ]
    },
    {
     "data": {
      "text/plain": [
       "Text(0.5, 1.0, 'Selecting k with the Elbow Method')"
      ]
     },
     "execution_count": 30,
     "metadata": {},
     "output_type": "execute_result"
    },
    {
     "data": {
      "image/png": "[encoded data removed]",
      "text/plain": [
       "<Figure size 800x550 with 1 Axes>"
      ]
     },
     "metadata": {},
     "output_type": "display_data"
    }
   ],
   "source": [
    "# Function to find the optimal number of clusters and plot elbow\n",
    "\n",
    "clusters = range(1, 9)\n",
    "meanDistortions = []  # Create a empty list\n",
    "\n",
    "for k in clusters:\n",
    "    model = KMeans(n_clusters = k)  # Initialize KMeans\n",
    "    model.fit(scaled_data)  # Fit kMeans on the data\n",
    "    prediction = model.predict(scaled_data)  # Predict the model on the data\n",
    "    distortion = (\n",
    "        sum(np.min(cdist(scaled_data, model.cluster_centers_, \"euclidean\"), axis=1))\n",
    "        / scaled_data.shape[0]  # Find distortion\n",
    "    )\n",
    "\n",
    "    meanDistortions.append(\n",
    "        distortion\n",
    "    )  # Append distortion values to the empty list created above\n",
    "\n",
    "    print(\"Number of Clusters:\", k, \"\\tAverage Distortion:\", distortion)\n",
    "\n",
    "plt.plot(clusters, meanDistortions, \"bx-\")\n",
    "plt.xlabel(\"k\")  # Title of X-axis\n",
    "plt.ylabel(\"Average Distortion\")  # Title of y-axis\n",
    "plt.title(\"Selecting k with the Elbow Method\", fontsize=20)  # Title of the plot"
   ]
  },
  {
   "cell_type": "markdown",
   "id": "a584273f",
   "metadata": {},
   "source": [
    "**In the above plot, the elbow is seen at 2, 3 and 4 on the K-axis. Meaning, these values will give us optimal number of clusters** \n",
    "\n",
    "**To make a better decision about the number of clusters, we can look at the silhouette score for different K values.**"
   ]
  },
  {
   "cell_type": "markdown",
   "id": "e7d0512b",
   "metadata": {},
   "source": [
    "### Finding the best sihouette score for different K values"
   ]
  },
  {
   "cell_type": "code",
   "execution_count": 31,
   "id": "2875bf32",
   "metadata": {},
   "outputs": [
    {
     "name": "stdout",
     "output_type": "stream",
     "text": [
      "For n_clusters = 2, silhouette score is 0.41800025566689647\n",
      "For n_clusters = 3, silhouette score is 0.516281010855363\n",
      "For n_clusters = 4, silhouette score is 0.3570238219413198\n",
      "For n_clusters = 5, silhouette score is 0.2731883976468857\n",
      "For n_clusters = 6, silhouette score is 0.25726918996025394\n",
      "For n_clusters = 7, silhouette score is 0.24838092108862636\n",
      "For n_clusters = 8, silhouette score is 0.22712579590269844\n",
      "For n_clusters = 9, silhouette score is 0.21418784790609033\n"
     ]
    },
    {
     "data": {
      "text/plain": [
       "[<matplotlib.lines.Line2D at 0x2514c108850>]"
      ]
     },
     "execution_count": 31,
     "metadata": {},
     "output_type": "execute_result"
    },
    {
     "data": {
      "image/png": "[encoded data removed]",
      "text/plain": [
       "<Figure size 800x550 with 1 Axes>"
      ]
     },
     "metadata": {},
     "output_type": "display_data"
    }
   ],
   "source": [
    "\n",
    "\n",
    "sil_score = []  # Create empty list\n",
    "cluster_list = list(range(2, 10))  # Creating a list of range from 2 to 10\n",
    "for n_clusters in cluster_list:\n",
    "    clusterer = KMeans(n_clusters=n_clusters)  # Initializing KMeans algorithm\n",
    "    preds = clusterer.fit_predict((scaled_data))  # Predicting on the data\n",
    "    # centers = clusterer.cluster_centers_\n",
    "    score = silhouette_score(scaled_data, preds)  # Cacalculating silhouette score\n",
    "    sil_score.append(score)  # Appending silhouette score to empty list created above\n",
    "    print(\"For n_clusters = {}, silhouette score is {}\".format(n_clusters, score))\n",
    "\n",
    "plt.plot(cluster_list, sil_score)"
   ]
  },
  {
   "cell_type": "markdown",
   "id": "f7fe5607",
   "metadata": {},
   "source": [
    "**From the silhouette scores, 3 is the best value of k because it has the highest value of silhouette score, 0.516**"
   ]
  },
  {
   "cell_type": "markdown",
   "id": "f79ec316",
   "metadata": {},
   "source": [
    "### Applying KMeans clustering for k = 3"
   ]
  },
  {
   "cell_type": "code",
   "execution_count": 32,
   "id": "f1180af5",
   "metadata": {},
   "outputs": [
    {
     "data": {
      "text/plain": [
       "KMeans(n_clusters=3, random_state=0)"
      ]
     },
     "execution_count": 32,
     "metadata": {},
     "output_type": "execute_result"
    }
   ],
   "source": [
    "kmeans2 = KMeans(n_clusters=3, random_state=0)\n",
    "kmeans2.fit(scaled_data)"
   ]
  },
  {
   "cell_type": "code",
   "execution_count": 33,
   "id": "83dc185e",
   "metadata": {},
   "outputs": [
    {
     "data": {
      "text/plain": [
       "0.516281010855363"
      ]
     },
     "execution_count": 33,
     "metadata": {},
     "output_type": "execute_result"
    }
   ],
   "source": [
    "labels = kmeans2.predict(scaled_data)\n",
    "\n",
    "sil2 = silhouette_score(scaled_data, labels)\n",
    "\n",
    "sil2"
   ]
  },
  {
   "cell_type": "code",
   "execution_count": 34,
   "id": "935816e4",
   "metadata": {},
   "outputs": [
    {
     "data": {
      "text/plain": [
       "array([1, 2, 1, 1, 0, 2, 0, 2, 2, 2, 2, 2, 2, 2, 2, 2, 2, 2, 2, 2, 2, 2,\n",
       "       2, 2, 2, 2, 2, 2, 2, 2, 2, 2, 2, 2, 2, 2, 2, 2, 2, 2, 2, 2, 2, 2,\n",
       "       2, 2, 2, 2, 2, 2, 2, 2, 2, 2, 2, 2, 2, 2, 2, 2, 2, 2, 2, 2, 2, 2,\n",
       "       2, 2, 2, 2, 2, 2, 2, 2, 2, 2, 2, 2, 2, 2, 2, 2, 2, 2, 2, 2, 2, 2,\n",
       "       2, 2, 2, 2, 2, 2, 2, 2, 2, 2, 2, 2, 2, 2, 2, 2, 2, 2, 2, 2, 2, 2,\n",
       "       2, 2, 2, 2, 2, 2, 2, 2, 2, 2, 2, 2, 2, 2, 2, 2, 2, 2, 2, 2, 2, 2,\n",
       "       2, 2, 2, 2, 2, 2, 2, 2, 2, 2, 2, 2, 2, 2, 2, 2, 2, 2, 2, 2, 2, 2,\n",
       "       2, 2, 2, 2, 2, 2, 2, 2, 2, 2, 2, 2, 2, 2, 2, 2, 2, 2, 2, 2, 2, 2,\n",
       "       2, 2, 2, 2, 2, 2, 2, 2, 2, 2, 2, 2, 2, 2, 2, 2, 2, 2, 2, 2, 2, 2,\n",
       "       2, 2, 2, 2, 2, 2, 2, 2, 2, 2, 2, 2, 2, 2, 2, 2, 2, 2, 2, 2, 2, 2,\n",
       "       2, 2, 2, 2, 2, 1, 1, 1, 1, 1, 1, 1, 1, 1, 1, 1, 1, 1, 1, 1, 1, 1,\n",
       "       1, 1, 1, 1, 1, 1, 1, 1, 1, 1, 1, 1, 1, 1, 1, 1, 1, 1, 1, 1, 1, 1,\n",
       "       1, 1, 1, 1, 1, 1, 1, 1, 1, 1, 1, 1, 1, 1, 1, 1, 1, 1, 1, 1, 1, 1,\n",
       "       1, 1, 1, 1, 1, 1, 1, 1, 1, 1, 1, 1, 1, 1, 1, 1, 1, 1, 1, 1, 1, 1,\n",
       "       1, 2, 1, 1, 1, 1, 1, 1, 1, 1, 1, 1, 1, 1, 1, 1, 1, 1, 1, 1, 1, 1,\n",
       "       1, 1, 1, 1, 1, 1, 1, 1, 1, 1, 1, 1, 1, 1, 1, 1, 1, 1, 1, 1, 1, 1,\n",
       "       1, 1, 1, 1, 1, 1, 1, 1, 1, 1, 1, 1, 1, 1, 1, 1, 1, 1, 1, 1, 1, 1,\n",
       "       1, 1, 1, 1, 1, 1, 1, 1, 1, 1, 1, 1, 1, 1, 1, 1, 1, 1, 1, 1, 1, 1,\n",
       "       1, 1, 1, 1, 1, 1, 1, 1, 1, 1, 1, 1, 1, 1, 1, 1, 1, 1, 1, 1, 1, 1,\n",
       "       1, 1, 1, 1, 1, 1, 1, 1, 1, 1, 1, 1, 1, 1, 1, 1, 1, 1, 1, 1, 1, 1,\n",
       "       1, 1, 1, 1, 1, 1, 1, 1, 1, 1, 1, 1, 1, 1, 1, 1, 1, 1, 1, 1, 1, 1,\n",
       "       1, 1, 1, 1, 1, 1, 1, 1, 1, 1, 1, 1, 1, 1, 1, 1, 1, 1, 1, 1, 1, 1,\n",
       "       1, 1, 1, 1, 1, 1, 1, 1, 1, 1, 1, 1, 1, 1, 1, 1, 1, 1, 1, 1, 1, 1,\n",
       "       1, 1, 1, 1, 1, 1, 1, 1, 1, 1, 1, 1, 1, 1, 1, 1, 1, 1, 1, 1, 1, 1,\n",
       "       1, 1, 1, 1, 1, 1, 1, 1, 1, 1, 1, 1, 1, 1, 1, 1, 1, 1, 1, 1, 1, 1,\n",
       "       1, 1, 1, 1, 1, 1, 1, 1, 1, 1, 1, 1, 1, 1, 1, 1, 1, 1, 1, 1, 1, 1,\n",
       "       1, 1, 1, 1, 1, 1, 1, 1, 1, 1, 1, 1, 1, 1, 1, 1, 1, 1, 1, 1, 1, 1,\n",
       "       1, 1, 1, 1, 1, 1, 1, 0, 0, 0, 0, 0, 0, 0, 0, 0, 0, 0, 0, 0, 0, 0,\n",
       "       0, 0, 0, 0, 0, 0, 0, 0, 0, 0, 0, 0, 0, 0, 0, 0, 0, 0, 0, 0, 0, 0,\n",
       "       0, 0, 0, 0, 0, 0, 0, 0, 0, 0, 0])"
      ]
     },
     "execution_count": 34,
     "metadata": {},
     "output_type": "execute_result"
    }
   ],
   "source": [
    "labels"
   ]
  },
  {
   "cell_type": "code",
   "execution_count": 35,
   "id": "95ae887f",
   "metadata": {},
   "outputs": [],
   "source": [
    "# adding kmeans cluster labels to the original dataframe\n",
    "scaled_data[\"Kmeans_clusters\"] = kmeans2.labels_"
   ]
  },
  {
   "cell_type": "code",
   "execution_count": 36,
   "id": "6c0f9875",
   "metadata": {},
   "outputs": [
    {
     "data": {
      "text/html": [
       "<div>\n",
       "<style scoped>\n",
       "    .dataframe tbody tr th:only-of-type {\n",
       "        vertical-align: middle;\n",
       "    }\n",
       "\n",
       "    .dataframe tbody tr th {\n",
       "        vertical-align: top;\n",
       "    }\n",
       "\n",
       "    .dataframe thead th {\n",
       "        text-align: right;\n",
       "    }\n",
       "</style>\n",
       "<table border=\"1\" class=\"dataframe\">\n",
       "  <thead>\n",
       "    <tr style=\"text-align: right;\">\n",
       "      <th></th>\n",
       "      <th>Avg_Credit_Limit</th>\n",
       "      <th>Total_Credit_Cards</th>\n",
       "      <th>Total_visits_bank</th>\n",
       "      <th>Total_visits_online</th>\n",
       "      <th>Total_calls_made</th>\n",
       "      <th>Kmeans_clusters</th>\n",
       "    </tr>\n",
       "  </thead>\n",
       "  <tbody>\n",
       "    <tr>\n",
       "      <th>0</th>\n",
       "      <td>1.723499</td>\n",
       "      <td>-1.247087</td>\n",
       "      <td>-0.860606</td>\n",
       "      <td>-0.550407</td>\n",
       "      <td>-1.248443</td>\n",
       "      <td>1</td>\n",
       "    </tr>\n",
       "    <tr>\n",
       "      <th>1</th>\n",
       "      <td>0.400209</td>\n",
       "      <td>-0.786701</td>\n",
       "      <td>-1.476410</td>\n",
       "      <td>2.499808</td>\n",
       "      <td>1.881237</td>\n",
       "      <td>2</td>\n",
       "    </tr>\n",
       "    <tr>\n",
       "      <th>2</th>\n",
       "      <td>0.400209</td>\n",
       "      <td>1.054846</td>\n",
       "      <td>-0.860606</td>\n",
       "      <td>0.127419</td>\n",
       "      <td>0.142526</td>\n",
       "      <td>1</td>\n",
       "    </tr>\n",
       "    <tr>\n",
       "      <th>3</th>\n",
       "      <td>-0.129107</td>\n",
       "      <td>0.134072</td>\n",
       "      <td>-0.860606</td>\n",
       "      <td>-0.550407</td>\n",
       "      <td>0.142526</td>\n",
       "      <td>1</td>\n",
       "    </tr>\n",
       "    <tr>\n",
       "      <th>4</th>\n",
       "      <td>1.723499</td>\n",
       "      <td>0.594459</td>\n",
       "      <td>-1.476410</td>\n",
       "      <td>3.177634</td>\n",
       "      <td>-0.205216</td>\n",
       "      <td>0</td>\n",
       "    </tr>\n",
       "    <tr>\n",
       "      <th>...</th>\n",
       "      <td>...</td>\n",
       "      <td>...</td>\n",
       "      <td>...</td>\n",
       "      <td>...</td>\n",
       "      <td>...</td>\n",
       "      <td>...</td>\n",
       "    </tr>\n",
       "    <tr>\n",
       "      <th>644</th>\n",
       "      <td>1.697034</td>\n",
       "      <td>2.436005</td>\n",
       "      <td>-0.860606</td>\n",
       "      <td>2.499808</td>\n",
       "      <td>-1.248443</td>\n",
       "      <td>0</td>\n",
       "    </tr>\n",
       "    <tr>\n",
       "      <th>645</th>\n",
       "      <td>1.300046</td>\n",
       "      <td>2.436005</td>\n",
       "      <td>-0.860606</td>\n",
       "      <td>3.516546</td>\n",
       "      <td>-0.552958</td>\n",
       "      <td>0</td>\n",
       "    </tr>\n",
       "    <tr>\n",
       "      <th>646</th>\n",
       "      <td>2.914461</td>\n",
       "      <td>1.515232</td>\n",
       "      <td>-0.860606</td>\n",
       "      <td>2.160895</td>\n",
       "      <td>-0.900701</td>\n",
       "      <td>0</td>\n",
       "    </tr>\n",
       "    <tr>\n",
       "      <th>647</th>\n",
       "      <td>3.629038</td>\n",
       "      <td>2.436005</td>\n",
       "      <td>-0.860606</td>\n",
       "      <td>4.194372</td>\n",
       "      <td>-1.248443</td>\n",
       "      <td>0</td>\n",
       "    </tr>\n",
       "    <tr>\n",
       "      <th>648</th>\n",
       "      <td>3.496709</td>\n",
       "      <td>1.975619</td>\n",
       "      <td>-1.476410</td>\n",
       "      <td>3.177634</td>\n",
       "      <td>-0.552958</td>\n",
       "      <td>0</td>\n",
       "    </tr>\n",
       "  </tbody>\n",
       "</table>\n",
       "<p>649 rows × 6 columns</p>\n",
       "</div>"
      ],
      "text/plain": [
       "     Avg_Credit_Limit  Total_Credit_Cards  Total_visits_bank  \\\n",
       "0            1.723499           -1.247087          -0.860606   \n",
       "1            0.400209           -0.786701          -1.476410   \n",
       "2            0.400209            1.054846          -0.860606   \n",
       "3           -0.129107            0.134072          -0.860606   \n",
       "4            1.723499            0.594459          -1.476410   \n",
       "..                ...                 ...                ...   \n",
       "644          1.697034            2.436005          -0.860606   \n",
       "645          1.300046            2.436005          -0.860606   \n",
       "646          2.914461            1.515232          -0.860606   \n",
       "647          3.629038            2.436005          -0.860606   \n",
       "648          3.496709            1.975619          -1.476410   \n",
       "\n",
       "     Total_visits_online  Total_calls_made  Kmeans_clusters  \n",
       "0              -0.550407         -1.248443                1  \n",
       "1               2.499808          1.881237                2  \n",
       "2               0.127419          0.142526                1  \n",
       "3              -0.550407          0.142526                1  \n",
       "4               3.177634         -0.205216                0  \n",
       "..                   ...               ...              ...  \n",
       "644             2.499808         -1.248443                0  \n",
       "645             3.516546         -0.552958                0  \n",
       "646             2.160895         -0.900701                0  \n",
       "647             4.194372         -1.248443                0  \n",
       "648             3.177634         -0.552958                0  \n",
       "\n",
       "[649 rows x 6 columns]"
      ]
     },
     "execution_count": 36,
     "metadata": {},
     "output_type": "execute_result"
    }
   ],
   "source": [
    "scaled_data"
   ]
  },
  {
   "cell_type": "code",
   "execution_count": 37,
   "id": "84c26807",
   "metadata": {},
   "outputs": [
    {
     "name": "stdout",
     "output_type": "stream",
     "text": [
      "['Total_Credit_Cards', 'Total_visits_bank', 'Total_visits_online', 'Total_calls_made', 'Avg_Credit_Limit']\n"
     ]
    }
   ],
   "source": [
    "num_col.append(\"Avg_Credit_Limit\")\n",
    "\n",
    "print(num_col)"
   ]
  },
  {
   "cell_type": "code",
   "execution_count": 38,
   "id": "c119b8c8",
   "metadata": {},
   "outputs": [
    {
     "data": {
      "image/png": "[encoded data removed]",
      "text/plain": [
       "<Figure size 1600x600 with 5 Axes>"
      ]
     },
     "metadata": {},
     "output_type": "display_data"
    }
   ],
   "source": [
    "fig, axes = plt.subplots(1, 5, figsize=(16, 6))\n",
    "fig.suptitle(\"Boxplot of numerical variables for each cluster\")\n",
    "counter = 0\n",
    "for ii in range(5):\n",
    "    sns.boxplot(ax = axes[ii], y = scaled_data[num_col[counter]], x = scaled_data[\"Kmeans_clusters\"])\n",
    "    counter = counter + 1\n",
    "\n",
    "fig.tight_layout(pad=2.0)"
   ]
  },
  {
   "cell_type": "markdown",
   "id": "5fa4191d",
   "metadata": {},
   "source": [
    "### Insights from K-Means Plot"
   ]
  },
  {
   "cell_type": "markdown",
   "id": "ea3b3dde",
   "metadata": {},
   "source": [
    "- **Cluster 0**: \n",
    "\n",
    "  Customers in this cluster have\n",
    "    - Moderate to high total credit cards\n",
    "    - Low total visits to the bank .\n",
    "    - Moderate to high total online logins made\n",
    "    - Low total number of calls made by the customer to the bank or its customer service \n",
    "    - Moderate to high average credit limit\n",
    "\n",
    "\n",
    "\n",
    "- **Cluster 1**: \n",
    "\n",
    "  Customers in this cluster have:\n",
    "    - Low to moderate total credit cards\n",
    "    - Low to high total visits to the bank\n",
    "    - Low total online logins made\n",
    "    - Low total number of calls made by the customer to the bank or its customer service \n",
    "    - Low to moderate average credit limit\n",
    "    \n",
    "    \n",
    "    \n",
    "- **Cluster 2**: \n",
    "\n",
    "  Customers in this cluster have:\n",
    "    - Low total credit cards\n",
    "    - Low to total visits to the bank.\n",
    "    - Low total online logins made.\n",
    "    - Low to high total number of calls made by the customer to the bank or its customer service \n",
    "    - Low average credit limit"
   ]
  },
  {
   "cell_type": "markdown",
   "id": "fee4c4fb",
   "metadata": {},
   "source": [
    "### DBSCAN CLUSTERING"
   ]
  },
  {
   "cell_type": "code",
   "execution_count": 39,
   "id": "36074b36",
   "metadata": {},
   "outputs": [],
   "source": [
    "# Creating a variable db_data without the Kmeans cluster column\n",
    "\n",
    "db_data = scaled_data.drop(\"Kmeans_clusters\", axis = 1)"
   ]
  },
  {
   "cell_type": "code",
   "execution_count": 40,
   "id": "d9040b51",
   "metadata": {},
   "outputs": [
    {
     "data": {
      "text/html": [
       "<div>\n",
       "<style scoped>\n",
       "    .dataframe tbody tr th:only-of-type {\n",
       "        vertical-align: middle;\n",
       "    }\n",
       "\n",
       "    .dataframe tbody tr th {\n",
       "        vertical-align: top;\n",
       "    }\n",
       "\n",
       "    .dataframe thead th {\n",
       "        text-align: right;\n",
       "    }\n",
       "</style>\n",
       "<table border=\"1\" class=\"dataframe\">\n",
       "  <thead>\n",
       "    <tr style=\"text-align: right;\">\n",
       "      <th></th>\n",
       "      <th>Avg_Credit_Limit</th>\n",
       "      <th>Total_Credit_Cards</th>\n",
       "      <th>Total_visits_bank</th>\n",
       "      <th>Total_visits_online</th>\n",
       "      <th>Total_calls_made</th>\n",
       "    </tr>\n",
       "  </thead>\n",
       "  <tbody>\n",
       "    <tr>\n",
       "      <th>0</th>\n",
       "      <td>1.723499</td>\n",
       "      <td>-1.247087</td>\n",
       "      <td>-0.860606</td>\n",
       "      <td>-0.550407</td>\n",
       "      <td>-1.248443</td>\n",
       "    </tr>\n",
       "    <tr>\n",
       "      <th>1</th>\n",
       "      <td>0.400209</td>\n",
       "      <td>-0.786701</td>\n",
       "      <td>-1.476410</td>\n",
       "      <td>2.499808</td>\n",
       "      <td>1.881237</td>\n",
       "    </tr>\n",
       "    <tr>\n",
       "      <th>2</th>\n",
       "      <td>0.400209</td>\n",
       "      <td>1.054846</td>\n",
       "      <td>-0.860606</td>\n",
       "      <td>0.127419</td>\n",
       "      <td>0.142526</td>\n",
       "    </tr>\n",
       "    <tr>\n",
       "      <th>3</th>\n",
       "      <td>-0.129107</td>\n",
       "      <td>0.134072</td>\n",
       "      <td>-0.860606</td>\n",
       "      <td>-0.550407</td>\n",
       "      <td>0.142526</td>\n",
       "    </tr>\n",
       "    <tr>\n",
       "      <th>4</th>\n",
       "      <td>1.723499</td>\n",
       "      <td>0.594459</td>\n",
       "      <td>-1.476410</td>\n",
       "      <td>3.177634</td>\n",
       "      <td>-0.205216</td>\n",
       "    </tr>\n",
       "    <tr>\n",
       "      <th>...</th>\n",
       "      <td>...</td>\n",
       "      <td>...</td>\n",
       "      <td>...</td>\n",
       "      <td>...</td>\n",
       "      <td>...</td>\n",
       "    </tr>\n",
       "    <tr>\n",
       "      <th>644</th>\n",
       "      <td>1.697034</td>\n",
       "      <td>2.436005</td>\n",
       "      <td>-0.860606</td>\n",
       "      <td>2.499808</td>\n",
       "      <td>-1.248443</td>\n",
       "    </tr>\n",
       "    <tr>\n",
       "      <th>645</th>\n",
       "      <td>1.300046</td>\n",
       "      <td>2.436005</td>\n",
       "      <td>-0.860606</td>\n",
       "      <td>3.516546</td>\n",
       "      <td>-0.552958</td>\n",
       "    </tr>\n",
       "    <tr>\n",
       "      <th>646</th>\n",
       "      <td>2.914461</td>\n",
       "      <td>1.515232</td>\n",
       "      <td>-0.860606</td>\n",
       "      <td>2.160895</td>\n",
       "      <td>-0.900701</td>\n",
       "    </tr>\n",
       "    <tr>\n",
       "      <th>647</th>\n",
       "      <td>3.629038</td>\n",
       "      <td>2.436005</td>\n",
       "      <td>-0.860606</td>\n",
       "      <td>4.194372</td>\n",
       "      <td>-1.248443</td>\n",
       "    </tr>\n",
       "    <tr>\n",
       "      <th>648</th>\n",
       "      <td>3.496709</td>\n",
       "      <td>1.975619</td>\n",
       "      <td>-1.476410</td>\n",
       "      <td>3.177634</td>\n",
       "      <td>-0.552958</td>\n",
       "    </tr>\n",
       "  </tbody>\n",
       "</table>\n",
       "<p>649 rows × 5 columns</p>\n",
       "</div>"
      ],
      "text/plain": [
       "     Avg_Credit_Limit  Total_Credit_Cards  Total_visits_bank  \\\n",
       "0            1.723499           -1.247087          -0.860606   \n",
       "1            0.400209           -0.786701          -1.476410   \n",
       "2            0.400209            1.054846          -0.860606   \n",
       "3           -0.129107            0.134072          -0.860606   \n",
       "4            1.723499            0.594459          -1.476410   \n",
       "..                ...                 ...                ...   \n",
       "644          1.697034            2.436005          -0.860606   \n",
       "645          1.300046            2.436005          -0.860606   \n",
       "646          2.914461            1.515232          -0.860606   \n",
       "647          3.629038            2.436005          -0.860606   \n",
       "648          3.496709            1.975619          -1.476410   \n",
       "\n",
       "     Total_visits_online  Total_calls_made  \n",
       "0              -0.550407         -1.248443  \n",
       "1               2.499808          1.881237  \n",
       "2               0.127419          0.142526  \n",
       "3              -0.550407          0.142526  \n",
       "4               3.177634         -0.205216  \n",
       "..                   ...               ...  \n",
       "644             2.499808         -1.248443  \n",
       "645             3.516546         -0.552958  \n",
       "646             2.160895         -0.900701  \n",
       "647             4.194372         -1.248443  \n",
       "648             3.177634         -0.552958  \n",
       "\n",
       "[649 rows x 5 columns]"
      ]
     },
     "execution_count": 40,
     "metadata": {},
     "output_type": "execute_result"
    }
   ],
   "source": [
    "# Sanity Check\n",
    "\n",
    "db_data"
   ]
  },
  {
   "cell_type": "code",
   "execution_count": 41,
   "id": "1b968c17",
   "metadata": {},
   "outputs": [],
   "source": [
    "# create an instance of the DBSCAN\n",
    "\n",
    "dbscan = DBSCAN()\n",
    "\n",
    "# fit and predict the labels\n",
    "\n",
    "db_labels = dbscan.fit_predict(db_data)"
   ]
  },
  {
   "cell_type": "code",
   "execution_count": 42,
   "id": "eb137b3e",
   "metadata": {},
   "outputs": [
    {
     "data": {
      "text/plain": [
       "array([-1,  0,  1,  2,  3,  4,  5,  6,  7,  8,  9, 10, 11, 12, 13, 14, 15,\n",
       "       16, 17, 18, 19, 20, 21, 22, 23], dtype=int64)"
      ]
     },
     "execution_count": 42,
     "metadata": {},
     "output_type": "execute_result"
    }
   ],
   "source": [
    "# check the labels\n",
    "\n",
    "np.unique(db_labels)"
   ]
  },
  {
   "cell_type": "markdown",
   "id": "9e74f550",
   "metadata": {},
   "source": [
    "There are too many clusters, so will find the optimal value of eps and minimum points and rebuild the model to get an effective number of clusters"
   ]
  },
  {
   "cell_type": "markdown",
   "id": "4a10a9f7",
   "metadata": {},
   "source": [
    "#### Choosing optimal values of eps and minPts"
   ]
  },
  {
   "cell_type": "code",
   "execution_count": 43,
   "id": "7162936c",
   "metadata": {},
   "outputs": [],
   "source": [
    "# import itertools\n",
    "\n",
    "import itertools"
   ]
  },
  {
   "cell_type": "code",
   "execution_count": 44,
   "id": "1998ce54",
   "metadata": {},
   "outputs": [],
   "source": [
    "# trying values of eps between 0.4 and 1; minPts between 2 and 10\n",
    "\n",
    "eps = np.linspace(0.1, 1, 10)\n",
    "minPts = np.arange(2, 10)"
   ]
  },
  {
   "cell_type": "code",
   "execution_count": 45,
   "id": "22fb9d65",
   "metadata": {},
   "outputs": [
    {
     "data": {
      "text/plain": [
       "[(0.1, 2),\n",
       " (0.1, 3),\n",
       " (0.1, 4),\n",
       " (0.1, 5),\n",
       " (0.1, 6),\n",
       " (0.1, 7),\n",
       " (0.1, 8),\n",
       " (0.1, 9),\n",
       " (0.2, 2),\n",
       " (0.2, 3),\n",
       " (0.2, 4),\n",
       " (0.2, 5),\n",
       " (0.2, 6),\n",
       " (0.2, 7),\n",
       " (0.2, 8),\n",
       " (0.2, 9),\n",
       " (0.30000000000000004, 2),\n",
       " (0.30000000000000004, 3),\n",
       " (0.30000000000000004, 4),\n",
       " (0.30000000000000004, 5),\n",
       " (0.30000000000000004, 6),\n",
       " (0.30000000000000004, 7),\n",
       " (0.30000000000000004, 8),\n",
       " (0.30000000000000004, 9),\n",
       " (0.4, 2),\n",
       " (0.4, 3),\n",
       " (0.4, 4),\n",
       " (0.4, 5),\n",
       " (0.4, 6),\n",
       " (0.4, 7),\n",
       " (0.4, 8),\n",
       " (0.4, 9),\n",
       " (0.5, 2),\n",
       " (0.5, 3),\n",
       " (0.5, 4),\n",
       " (0.5, 5),\n",
       " (0.5, 6),\n",
       " (0.5, 7),\n",
       " (0.5, 8),\n",
       " (0.5, 9),\n",
       " (0.6, 2),\n",
       " (0.6, 3),\n",
       " (0.6, 4),\n",
       " (0.6, 5),\n",
       " (0.6, 6),\n",
       " (0.6, 7),\n",
       " (0.6, 8),\n",
       " (0.6, 9),\n",
       " (0.7000000000000001, 2),\n",
       " (0.7000000000000001, 3),\n",
       " (0.7000000000000001, 4),\n",
       " (0.7000000000000001, 5),\n",
       " (0.7000000000000001, 6),\n",
       " (0.7000000000000001, 7),\n",
       " (0.7000000000000001, 8),\n",
       " (0.7000000000000001, 9),\n",
       " (0.8, 2),\n",
       " (0.8, 3),\n",
       " (0.8, 4),\n",
       " (0.8, 5),\n",
       " (0.8, 6),\n",
       " (0.8, 7),\n",
       " (0.8, 8),\n",
       " (0.8, 9),\n",
       " (0.9, 2),\n",
       " (0.9, 3),\n",
       " (0.9, 4),\n",
       " (0.9, 5),\n",
       " (0.9, 6),\n",
       " (0.9, 7),\n",
       " (0.9, 8),\n",
       " (0.9, 9),\n",
       " (1.0, 2),\n",
       " (1.0, 3),\n",
       " (1.0, 4),\n",
       " (1.0, 5),\n",
       " (1.0, 6),\n",
       " (1.0, 7),\n",
       " (1.0, 8),\n",
       " (1.0, 9)]"
      ]
     },
     "execution_count": 45,
     "metadata": {},
     "output_type": "execute_result"
    }
   ],
   "source": [
    "# a list of eps and minPts we are going to iterate through\n",
    "\n",
    "list(itertools.product(eps, minPts))  "
   ]
  },
  {
   "cell_type": "code",
   "execution_count": 46,
   "id": "ce3fe6de",
   "metadata": {},
   "outputs": [
    {
     "name": "stdout",
     "output_type": "stream",
     "text": [
      "eps: 0.1, minPts: 2, num_labels: 50, score: -0.4103135264661649\n",
      "eps: 0.1, minPts: 3, num_labels: 6, score: -0.45843023062686916\n",
      "eps: 0.1, minPts: 4, num_labels: 1 (Skipped silhouette score calculation)\n",
      "eps: 0.1, minPts: 5, num_labels: 1 (Skipped silhouette score calculation)\n",
      "eps: 0.1, minPts: 6, num_labels: 1 (Skipped silhouette score calculation)\n",
      "eps: 0.1, minPts: 7, num_labels: 1 (Skipped silhouette score calculation)\n",
      "eps: 0.1, minPts: 8, num_labels: 1 (Skipped silhouette score calculation)\n",
      "eps: 0.1, minPts: 9, num_labels: 1 (Skipped silhouette score calculation)\n",
      "eps: 0.2, minPts: 2, num_labels: 83, score: -0.27402439322356437\n",
      "eps: 0.2, minPts: 3, num_labels: 19, score: -0.4652936436382976\n",
      "eps: 0.2, minPts: 4, num_labels: 3, score: 0.009886095986018337\n",
      "eps: 0.2, minPts: 5, num_labels: 1 (Skipped silhouette score calculation)\n",
      "eps: 0.2, minPts: 6, num_labels: 1 (Skipped silhouette score calculation)\n",
      "eps: 0.2, minPts: 7, num_labels: 1 (Skipped silhouette score calculation)\n",
      "eps: 0.2, minPts: 8, num_labels: 1 (Skipped silhouette score calculation)\n",
      "eps: 0.2, minPts: 9, num_labels: 1 (Skipped silhouette score calculation)\n",
      "eps: 0.30000000000000004, minPts: 2, num_labels: 106, score: -0.21201421796597672\n",
      "eps: 0.30000000000000004, minPts: 3, num_labels: 27, score: -0.46191522742204294\n",
      "eps: 0.30000000000000004, minPts: 4, num_labels: 4, score: -0.34602583417894156\n",
      "eps: 0.30000000000000004, minPts: 5, num_labels: 1 (Skipped silhouette score calculation)\n",
      "eps: 0.30000000000000004, minPts: 6, num_labels: 1 (Skipped silhouette score calculation)\n",
      "eps: 0.30000000000000004, minPts: 7, num_labels: 1 (Skipped silhouette score calculation)\n",
      "eps: 0.30000000000000004, minPts: 8, num_labels: 1 (Skipped silhouette score calculation)\n",
      "eps: 0.30000000000000004, minPts: 9, num_labels: 1 (Skipped silhouette score calculation)\n",
      "eps: 0.4, minPts: 2, num_labels: 109, score: 0.024392155561436413\n",
      "eps: 0.4, minPts: 3, num_labels: 70, score: -0.05333661946803066\n",
      "eps: 0.4, minPts: 4, num_labels: 47, score: -0.18744291191384754\n",
      "eps: 0.4, minPts: 5, num_labels: 26, score: -0.30449636195171254\n",
      "eps: 0.4, minPts: 6, num_labels: 11, score: -0.3944551734911399\n",
      "eps: 0.4, minPts: 7, num_labels: 6, score: -0.4283840413187283\n",
      "eps: 0.4, minPts: 8, num_labels: 4, score: -0.36954482240146297\n",
      "eps: 0.4, minPts: 9, num_labels: 2, score: -0.07077820369080513\n",
      "eps: 0.5, minPts: 2, num_labels: 40, score: -0.12373498092700204\n",
      "eps: 0.5, minPts: 3, num_labels: 23, score: -0.10787992888653354\n",
      "eps: 0.5, minPts: 4, num_labels: 23, score: -0.09052752552983165\n",
      "eps: 0.5, minPts: 5, num_labels: 25, score: -0.14120111190166282\n",
      "eps: 0.5, minPts: 6, num_labels: 21, score: -0.15607643035427235\n",
      "eps: 0.5, minPts: 7, num_labels: 23, score: -0.1789979939320107\n",
      "eps: 0.5, minPts: 8, num_labels: 16, score: -0.28640468613135356\n",
      "eps: 0.5, minPts: 9, num_labels: 8, score: -0.33321631232932103\n",
      "eps: 0.6, minPts: 2, num_labels: 14, score: -0.05842256588794934\n",
      "eps: 0.6, minPts: 3, num_labels: 11, score: -0.03778010701665131\n",
      "eps: 0.6, minPts: 4, num_labels: 12, score: -0.08055584060913654\n",
      "eps: 0.6, minPts: 5, num_labels: 9, score: -0.007034046819767421\n",
      "eps: 0.6, minPts: 6, num_labels: 11, score: 0.02879765120518752\n",
      "eps: 0.6, minPts: 7, num_labels: 10, score: 0.011915940865847\n",
      "eps: 0.6, minPts: 8, num_labels: 12, score: -0.02541349964279303\n",
      "eps: 0.6, minPts: 9, num_labels: 10, score: -0.05170120214276124\n",
      "eps: 0.7000000000000001, minPts: 2, num_labels: 10, score: 0.3805147274228743\n",
      "eps: 0.7000000000000001, minPts: 3, num_labels: 4, score: 0.43254408886757933\n",
      "eps: 0.7000000000000001, minPts: 4, num_labels: 4, score: 0.4232766211610791\n",
      "eps: 0.7000000000000001, minPts: 5, num_labels: 2, score: 0.5253685811910764\n",
      "eps: 0.7000000000000001, minPts: 6, num_labels: 2, score: 0.5253685811910764\n",
      "eps: 0.7000000000000001, minPts: 7, num_labels: 2, score: 0.5156339021590838\n",
      "eps: 0.7000000000000001, minPts: 8, num_labels: 2, score: 0.49539384909732526\n",
      "eps: 0.7000000000000001, minPts: 9, num_labels: 2, score: 0.4654308975263118\n",
      "eps: 0.8, minPts: 2, num_labels: 10, score: 0.3648084795235968\n",
      "eps: 0.8, minPts: 3, num_labels: 6, score: 0.37499163999248436\n",
      "eps: 0.8, minPts: 4, num_labels: 5, score: 0.4581421219081781\n",
      "eps: 0.8, minPts: 5, num_labels: 3, score: 0.49757100011888694\n",
      "eps: 0.8, minPts: 6, num_labels: 3, score: 0.4700838673039626\n",
      "eps: 0.8, minPts: 7, num_labels: 2, score: 0.5498166727998134\n",
      "eps: 0.8, minPts: 8, num_labels: 2, score: 0.5498166727998134\n",
      "eps: 0.8, minPts: 9, num_labels: 2, score: 0.5498166727998134\n",
      "eps: 0.9, minPts: 2, num_labels: 5, score: 0.47340009793630256\n",
      "eps: 0.9, minPts: 3, num_labels: 5, score: 0.47340009793630256\n",
      "eps: 0.9, minPts: 4, num_labels: 3, score: 0.5163598475207832\n",
      "eps: 0.9, minPts: 5, num_labels: 4, score: 0.4579852013843582\n",
      "eps: 0.9, minPts: 6, num_labels: 4, score: 0.4433138497603356\n",
      "eps: 0.9, minPts: 7, num_labels: 3, score: 0.5044021966050939\n",
      "eps: 0.9, minPts: 8, num_labels: 2, score: 0.555565483770844\n",
      "eps: 0.9, minPts: 9, num_labels: 2, score: 0.555565483770844\n",
      "eps: 1.0, minPts: 2, num_labels: 3, score: 0.5268902024926486\n",
      "eps: 1.0, minPts: 3, num_labels: 3, score: 0.5268902024926486\n",
      "eps: 1.0, minPts: 4, num_labels: 3, score: 0.5226974039924872\n",
      "eps: 1.0, minPts: 5, num_labels: 3, score: 0.5192981918575418\n",
      "eps: 1.0, minPts: 6, num_labels: 3, score: 0.5162400810237042\n",
      "eps: 1.0, minPts: 7, num_labels: 3, score: 0.5101128070231739\n",
      "eps: 1.0, minPts: 8, num_labels: 3, score: 0.49774740296607933\n",
      "eps: 1.0, minPts: 9, num_labels: 3, score: 0.4980699936607531\n"
     ]
    }
   ],
   "source": [
    "# create a tuple of eps and minPts using product method of itertools\n",
    "\n",
    "hyper_list = list(itertools.product(eps, minPts))\n",
    "\n",
    "for (eps, minPts) in hyper_list:\n",
    "    dbscan = DBSCAN(eps=eps, min_samples=minPts)\n",
    "    labels = dbscan.fit_predict(db_data)\n",
    "    num_labels = len(np.unique(labels))\n",
    "\n",
    "    if num_labels >= 2:\n",
    "        score = silhouette_score(db_data, labels)\n",
    "        print(f\"eps: {eps}, minPts: {minPts}, num_labels: {num_labels}, score: {score}\")\n",
    "    else:\n",
    "        print(f\"eps: {eps}, minPts: {minPts}, num_labels: {num_labels} (Skipped silhouette score calculation)\")\n"
   ]
  },
  {
   "cell_type": "markdown",
   "id": "5f03ee9b",
   "metadata": {},
   "source": [
    "We are going to pick eps 1.0 and minPts 3 since it gave us a high silhouette score of 0.52689"
   ]
  },
  {
   "cell_type": "markdown",
   "id": "d3044c12",
   "metadata": {},
   "source": [
    "#### Implementing DBSCAN across the different hyperparameters"
   ]
  },
  {
   "cell_type": "code",
   "execution_count": 47,
   "id": "7eb03e42",
   "metadata": {},
   "outputs": [],
   "source": [
    "# rebuild the model\n",
    "\n",
    "dbscan2 = DBSCAN(eps = 1.0, min_samples = 3) \n",
    "\n",
    "db_labels2 = dbscan2.fit_predict(db_data)"
   ]
  },
  {
   "cell_type": "code",
   "execution_count": 48,
   "id": "17768292",
   "metadata": {},
   "outputs": [
    {
     "data": {
      "text/plain": [
       "array([-1,  0,  1], dtype=int64)"
      ]
     },
     "execution_count": 48,
     "metadata": {},
     "output_type": "execute_result"
    }
   ],
   "source": [
    "# check unique labels\n",
    "\n",
    "np.unique(db_labels2)"
   ]
  },
  {
   "cell_type": "markdown",
   "id": "14e28b4e",
   "metadata": {},
   "source": [
    "So we have 3 groups. One group of outliers,-1, 0 and 1"
   ]
  },
  {
   "cell_type": "code",
   "execution_count": 49,
   "id": "c1eeb5fb",
   "metadata": {},
   "outputs": [],
   "source": [
    "# add the dbscan labels to the original data\n",
    "\n",
    "db_data[\"db_labels\"] = db_labels2"
   ]
  },
  {
   "cell_type": "code",
   "execution_count": 50,
   "id": "f05eb8a8",
   "metadata": {
    "scrolled": true
   },
   "outputs": [
    {
     "data": {
      "text/html": [
       "<div>\n",
       "<style scoped>\n",
       "    .dataframe tbody tr th:only-of-type {\n",
       "        vertical-align: middle;\n",
       "    }\n",
       "\n",
       "    .dataframe tbody tr th {\n",
       "        vertical-align: top;\n",
       "    }\n",
       "\n",
       "    .dataframe thead th {\n",
       "        text-align: right;\n",
       "    }\n",
       "</style>\n",
       "<table border=\"1\" class=\"dataframe\">\n",
       "  <thead>\n",
       "    <tr style=\"text-align: right;\">\n",
       "      <th></th>\n",
       "      <th>Avg_Credit_Limit</th>\n",
       "      <th>Total_Credit_Cards</th>\n",
       "      <th>Total_visits_bank</th>\n",
       "      <th>Total_visits_online</th>\n",
       "      <th>Total_calls_made</th>\n",
       "      <th>db_labels</th>\n",
       "    </tr>\n",
       "  </thead>\n",
       "  <tbody>\n",
       "    <tr>\n",
       "      <th>0</th>\n",
       "      <td>1.723499</td>\n",
       "      <td>-1.247087</td>\n",
       "      <td>-0.860606</td>\n",
       "      <td>-0.550407</td>\n",
       "      <td>-1.248443</td>\n",
       "      <td>-1</td>\n",
       "    </tr>\n",
       "    <tr>\n",
       "      <th>1</th>\n",
       "      <td>0.400209</td>\n",
       "      <td>-0.786701</td>\n",
       "      <td>-1.476410</td>\n",
       "      <td>2.499808</td>\n",
       "      <td>1.881237</td>\n",
       "      <td>-1</td>\n",
       "    </tr>\n",
       "    <tr>\n",
       "      <th>2</th>\n",
       "      <td>0.400209</td>\n",
       "      <td>1.054846</td>\n",
       "      <td>-0.860606</td>\n",
       "      <td>0.127419</td>\n",
       "      <td>0.142526</td>\n",
       "      <td>0</td>\n",
       "    </tr>\n",
       "    <tr>\n",
       "      <th>3</th>\n",
       "      <td>-0.129107</td>\n",
       "      <td>0.134072</td>\n",
       "      <td>-0.860606</td>\n",
       "      <td>-0.550407</td>\n",
       "      <td>0.142526</td>\n",
       "      <td>0</td>\n",
       "    </tr>\n",
       "    <tr>\n",
       "      <th>4</th>\n",
       "      <td>1.723499</td>\n",
       "      <td>0.594459</td>\n",
       "      <td>-1.476410</td>\n",
       "      <td>3.177634</td>\n",
       "      <td>-0.205216</td>\n",
       "      <td>1</td>\n",
       "    </tr>\n",
       "  </tbody>\n",
       "</table>\n",
       "</div>"
      ],
      "text/plain": [
       "   Avg_Credit_Limit  Total_Credit_Cards  Total_visits_bank  \\\n",
       "0          1.723499           -1.247087          -0.860606   \n",
       "1          0.400209           -0.786701          -1.476410   \n",
       "2          0.400209            1.054846          -0.860606   \n",
       "3         -0.129107            0.134072          -0.860606   \n",
       "4          1.723499            0.594459          -1.476410   \n",
       "\n",
       "   Total_visits_online  Total_calls_made  db_labels  \n",
       "0            -0.550407         -1.248443         -1  \n",
       "1             2.499808          1.881237         -1  \n",
       "2             0.127419          0.142526          0  \n",
       "3            -0.550407          0.142526          0  \n",
       "4             3.177634         -0.205216          1  "
      ]
     },
     "execution_count": 50,
     "metadata": {},
     "output_type": "execute_result"
    }
   ],
   "source": [
    "# Sanity check\n",
    "\n",
    "db_data.head()"
   ]
  },
  {
   "cell_type": "markdown",
   "id": "838164e9",
   "metadata": {},
   "source": [
    "### Visualizing groups"
   ]
  },
  {
   "cell_type": "code",
   "execution_count": 51,
   "id": "415cbf4c",
   "metadata": {},
   "outputs": [
    {
     "data": {
      "text/plain": [
       "Index(['Avg_Credit_Limit', 'Total_Credit_Cards', 'Total_visits_bank',\n",
       "       'Total_visits_online', 'Total_calls_made', 'db_labels'],\n",
       "      dtype='object')"
      ]
     },
     "execution_count": 51,
     "metadata": {},
     "output_type": "execute_result"
    }
   ],
   "source": [
    "db_data.columns"
   ]
  },
  {
   "cell_type": "code",
   "execution_count": 52,
   "id": "8ba157f2",
   "metadata": {
    "scrolled": true
   },
   "outputs": [
    {
     "data": {
      "image/png": "[encoded data removed]",
      "text/plain": [
       "<Figure size 1600x600 with 5 Axes>"
      ]
     },
     "metadata": {},
     "output_type": "display_data"
    }
   ],
   "source": [
    "# examine same in the original variables\n",
    "\n",
    "fig, ax = plt.subplots(1, 5, figsize = (16, 6))\n",
    "fig.suptitle(\"Boxplots for numeric variables in the scaled data\")\n",
    "\n",
    "count = 0\n",
    "for i in range(5):\n",
    "    sns.boxplot(ax = ax[i], x = db_data[\"db_labels\"], y = db_data[num_col[count]])\n",
    "    count += 1\n",
    "fig.tight_layout()"
   ]
  },
  {
   "cell_type": "markdown",
   "id": "7a7bcf9e",
   "metadata": {},
   "source": [
    "### Insight from DBSCAN plot"
   ]
  },
  {
   "cell_type": "markdown",
   "id": "285c57cb",
   "metadata": {},
   "source": [
    "- **Cluster -1**: \n",
    "\n",
    "  Customers in this cluster have\n",
    "    - low to moderate total credit cards\n",
    "    - Low total visits to the bank .\n",
    "    - High total online logins made\n",
    "    - Low total number of calls made by the customer to the bank or its customer service \n",
    "    - Moderate to high average credit limit\n",
    "\n",
    "\n",
    "\n",
    "- **Cluster 0**: \n",
    "\n",
    "  Customers in this cluster have:\n",
    "    - Low to moderate total credit cards\n",
    "    - Low to high total visits to the bank\n",
    "    - Low total online logins made\n",
    "    - Low to high total number of calls made by the customer to the bank or its customer service \n",
    "    - Low average credit limit\n",
    "    \n",
    "    \n",
    "    \n",
    "- **Cluster 1**: \n",
    "\n",
    "  Customers in this cluster have:\n",
    "    - High total credit cards\n",
    "    - Low total visits to the bank.\n",
    "    - High total online logins made.\n",
    "    - Low total number of calls made by the customer to the bank or its customer service \n",
    "    - High average credit limit"
   ]
  },
  {
   "cell_type": "markdown",
   "id": "80996f3e",
   "metadata": {},
   "source": [
    "### K-MEANS VS DBSCAN Clustering"
   ]
  },
  {
   "cell_type": "markdown",
   "id": "7c74812b",
   "metadata": {},
   "source": [
    "From the observations obtained from the K-means and DBSCAN clustering technique:\n",
    "\n",
    "- **Cluster 0** in K-means corresponds to **Cluster 2** in DBSCAN. Both clusters have similar characteristics such as low total credit cards, low total visits to the bank, low total online logins, low to high total number of calls made, and low average credit limit.\n",
    "\n",
    "\n",
    "- **Cluster 1** in K-means corresponds to **Cluster 1** in DBSCAN. These clusters share similarities such as low to moderate total credit cards, low to high total visits to the bank, low total online logins, low to high total number of calls made, and low average credit limit.\n",
    "\n",
    "\n",
    "\n",
    "- **Cluster 2** in K-means corresponds to **Cluster 0** in DBSCAN. These clusters exhibit similar traits, including moderate to high total credit cards, low total visits to the bank, moderate to high total online logins, low total number of calls made, and moderate to high average credit limit.\n",
    "\n"
   ]
  },
  {
   "cell_type": "markdown",
   "id": "1cff3beb",
   "metadata": {},
   "source": [
    "### Business Recommendations"
   ]
  },
  {
   "cell_type": "markdown",
   "id": "2e0dcbf1",
   "metadata": {},
   "source": [
    "Based on the observations from the K-means and DBSCAN clustering techniques, we can draw some key takeaways for the business. Here are the recommendations:\n",
    "\n",
    "\n",
    "\n",
    "1. **Key Takeaways for the Business:**\n",
    "\n",
    "\n",
    "   - Both clustering techniques identified similar patterns in terms of the relationship between different attributes and customer segments.\n",
    "   \n",
    "   \n",
    "   - Customers in Cluster 0 (K-means) and Cluster 1 (DBSCAN) have lower credit card usage, more visits to the bank, lower online logins, fewer calls, and lower average credit limits. \n",
    "   \n",
    "   \n",
    "   - Customers in Cluster 2 (K-means) and Cluster -1 (DBSCAN outliers) have lower credit card usage, fewer visits to the bank, lower online logins, higher number of calls, and lower average credit limits. \n",
    "   \n",
    "   \n",
    "   - Customers in Cluster 1 (K-means) and Cluster 1 (DBSCAN) have higher credit card usage, lower visits to the bank, higher online logins, fewer calls, and higher average credit limits. \n",
    "   \n",
    "   \n",
    "   \n",
    "2. **Recommendations to the Business:**\n",
    "\n",
    "\n",
    "   - For customers in Cluster 0 (K-means) and Cluster 1 (DBSCAN), the business can focus on targeted marketing campaigns to increase credit card usage. This could include personalized offers, rewards programs, and incentives to encourage these customers to use their credit cards more frequently.\n",
    "   \n",
    "   \n",
    "   - For customers in Cluster 2 (K-means) and Cluster -1 (DBSCAN outliers), the business should prioritize improving customer support services. This could involve streamlining the query resolution process, providing faster responses, and ensuring a seamless customer experience across different channels.\n",
    "   \n",
    "   \n",
    "   - For customers in Cluster 1 (K-means) and Cluster 1 (DBSCAN), the business can explore upselling and cross-selling opportunities. This could involve recommending higher credit limits, offering premium credit card options, and providing tailored financial products and services to cater to their financial needs.\n",
    "   \n",
    "   \n",
    "   - Regular monitoring of customer segments and analysis of their evolving needs and preferences can help the business refine its marketing strategies, improve customer satisfaction, and drive overall business growth.\n",
    "\n"
   ]
  }
 ],
 "metadata": {
  "kernelspec": {
   "display_name": "Python 3 (ipykernel)",
   "language": "python",
   "name": "python3"
  },
  "language_info": {
   "codemirror_mode": {
    "name": "ipython",
    "version": 3
   },
   "file_extension": ".py",
   "mimetype": "text/x-python",
   "name": "python",
   "nbconvert_exporter": "python",
   "pygments_lexer": "ipython3",
   "version": "3.9.13"
  }
 },
 "nbformat": 4,
 "nbformat_minor": 5
}
